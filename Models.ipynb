{
 "cells": [
  {
   "cell_type": "markdown",
   "id": "22ba4851",
   "metadata": {},
   "source": [
    "In this notebook, we will be using a decision tree to predict Medicaid spending on a specific drug given the brand, manufacturer, and generic names as well as data from the previous year. In particular, we will use 2019 data to predict spending in 2020, using the other data for training. "
   ]
  },
  {
   "cell_type": "code",
   "execution_count": 1,
   "id": "9b88133e",
   "metadata": {},
   "outputs": [],
   "source": [
    "import pandas as pd\n",
    "import numpy as np\n",
    "import matplotlib.pyplot as plt\n",
    "import scipy \n",
    "\n",
    "from sklearn.preprocessing import LabelBinarizer, MinMaxScaler, StandardScaler\n",
    "from sklearn import tree"
   ]
  },
  {
   "cell_type": "markdown",
   "id": "1c3eb2ca",
   "metadata": {},
   "source": [
    "## Setup"
   ]
  },
  {
   "cell_type": "markdown",
   "id": "8ce7a925",
   "metadata": {},
   "source": [
    "We first load our feature matrices and labels. "
   ]
  },
  {
   "cell_type": "code",
   "execution_count": 23,
   "id": "203b9f7d",
   "metadata": {},
   "outputs": [
    {
     "data": {
      "text/html": [
       "<div>\n",
       "<style scoped>\n",
       "    .dataframe tbody tr th:only-of-type {\n",
       "        vertical-align: middle;\n",
       "    }\n",
       "\n",
       "    .dataframe tbody tr th {\n",
       "        vertical-align: top;\n",
       "    }\n",
       "\n",
       "    .dataframe thead th {\n",
       "        text-align: right;\n",
       "    }\n",
       "</style>\n",
       "<table border=\"1\" class=\"dataframe\">\n",
       "  <thead>\n",
       "    <tr style=\"text-align: right;\">\n",
       "      <th></th>\n",
       "      <th>Brnd_Name</th>\n",
       "      <th>Gnrc_Name</th>\n",
       "      <th>Mftr_Name</th>\n",
       "      <th>Tot_Dsg_Unts</th>\n",
       "      <th>Tot_Clms</th>\n",
       "      <th>Avg_Spnd_Per_Dsg_Unt_Wghtd</th>\n",
       "      <th>Avg_Spnd_Per_Clm</th>\n",
       "    </tr>\n",
       "  </thead>\n",
       "  <tbody>\n",
       "    <tr>\n",
       "      <th>0</th>\n",
       "      <td>0</td>\n",
       "      <td>0</td>\n",
       "      <td>0</td>\n",
       "      <td>2426.26</td>\n",
       "      <td>1189</td>\n",
       "      <td>15.28</td>\n",
       "      <td>29.03</td>\n",
       "    </tr>\n",
       "    <tr>\n",
       "      <th>1</th>\n",
       "      <td>0</td>\n",
       "      <td>0</td>\n",
       "      <td>1</td>\n",
       "      <td>2426.26</td>\n",
       "      <td>1189</td>\n",
       "      <td>15.28</td>\n",
       "      <td>29.03</td>\n",
       "    </tr>\n",
       "    <tr>\n",
       "      <th>2</th>\n",
       "      <td>1</td>\n",
       "      <td>1</td>\n",
       "      <td>0</td>\n",
       "      <td>1613893.00</td>\n",
       "      <td>27596</td>\n",
       "      <td>4.56</td>\n",
       "      <td>266.73</td>\n",
       "    </tr>\n",
       "    <tr>\n",
       "      <th>3</th>\n",
       "      <td>1</td>\n",
       "      <td>1</td>\n",
       "      <td>2</td>\n",
       "      <td>504740.00</td>\n",
       "      <td>8520</td>\n",
       "      <td>4.51</td>\n",
       "      <td>267.43</td>\n",
       "    </tr>\n",
       "    <tr>\n",
       "      <th>4</th>\n",
       "      <td>1</td>\n",
       "      <td>1</td>\n",
       "      <td>3</td>\n",
       "      <td>636555.00</td>\n",
       "      <td>10946</td>\n",
       "      <td>4.53</td>\n",
       "      <td>263.63</td>\n",
       "    </tr>\n",
       "    <tr>\n",
       "      <th>...</th>\n",
       "      <td>...</td>\n",
       "      <td>...</td>\n",
       "      <td>...</td>\n",
       "      <td>...</td>\n",
       "      <td>...</td>\n",
       "      <td>...</td>\n",
       "      <td>...</td>\n",
       "    </tr>\n",
       "    <tr>\n",
       "      <th>25258</th>\n",
       "      <td>2550</td>\n",
       "      <td>1165</td>\n",
       "      <td>64</td>\n",
       "      <td>98239.00</td>\n",
       "      <td>2639</td>\n",
       "      <td>22.26</td>\n",
       "      <td>836.75</td>\n",
       "    </tr>\n",
       "    <tr>\n",
       "      <th>25259</th>\n",
       "      <td>2551</td>\n",
       "      <td>1165</td>\n",
       "      <td>0</td>\n",
       "      <td>345316.55</td>\n",
       "      <td>9343</td>\n",
       "      <td>22.88</td>\n",
       "      <td>719.38</td>\n",
       "    </tr>\n",
       "    <tr>\n",
       "      <th>25260</th>\n",
       "      <td>2551</td>\n",
       "      <td>1165</td>\n",
       "      <td>501</td>\n",
       "      <td>345316.55</td>\n",
       "      <td>9343</td>\n",
       "      <td>22.88</td>\n",
       "      <td>719.38</td>\n",
       "    </tr>\n",
       "    <tr>\n",
       "      <th>25261</th>\n",
       "      <td>2552</td>\n",
       "      <td>1664</td>\n",
       "      <td>0</td>\n",
       "      <td>887417.00</td>\n",
       "      <td>9362</td>\n",
       "      <td>105.69</td>\n",
       "      <td>9027.92</td>\n",
       "    </tr>\n",
       "    <tr>\n",
       "      <th>25262</th>\n",
       "      <td>2552</td>\n",
       "      <td>1664</td>\n",
       "      <td>274</td>\n",
       "      <td>707741.00</td>\n",
       "      <td>6218</td>\n",
       "      <td>79.38</td>\n",
       "      <td>9035.39</td>\n",
       "    </tr>\n",
       "  </tbody>\n",
       "</table>\n",
       "<p>25263 rows × 7 columns</p>\n",
       "</div>"
      ],
      "text/plain": [
       "       Brnd_Name  Gnrc_Name  Mftr_Name  Tot_Dsg_Unts  Tot_Clms  \\\n",
       "0              0          0          0       2426.26      1189   \n",
       "1              0          0          1       2426.26      1189   \n",
       "2              1          1          0    1613893.00     27596   \n",
       "3              1          1          2     504740.00      8520   \n",
       "4              1          1          3     636555.00     10946   \n",
       "...          ...        ...        ...           ...       ...   \n",
       "25258       2550       1165         64      98239.00      2639   \n",
       "25259       2551       1165          0     345316.55      9343   \n",
       "25260       2551       1165        501     345316.55      9343   \n",
       "25261       2552       1664          0     887417.00      9362   \n",
       "25262       2552       1664        274     707741.00      6218   \n",
       "\n",
       "       Avg_Spnd_Per_Dsg_Unt_Wghtd  Avg_Spnd_Per_Clm  \n",
       "0                           15.28             29.03  \n",
       "1                           15.28             29.03  \n",
       "2                            4.56            266.73  \n",
       "3                            4.51            267.43  \n",
       "4                            4.53            263.63  \n",
       "...                           ...               ...  \n",
       "25258                       22.26            836.75  \n",
       "25259                       22.88            719.38  \n",
       "25260                       22.88            719.38  \n",
       "25261                      105.69           9027.92  \n",
       "25262                       79.38           9035.39  \n",
       "\n",
       "[25263 rows x 7 columns]"
      ]
     },
     "execution_count": 23,
     "metadata": {},
     "output_type": "execute_result"
    }
   ],
   "source": [
    "#training feature matrix \n",
    "X = pd.read_csv('X.csv')\n",
    "X"
   ]
  },
  {
   "cell_type": "code",
   "execution_count": 24,
   "id": "a15c892e",
   "metadata": {},
   "outputs": [
    {
     "data": {
      "text/html": [
       "<div>\n",
       "<style scoped>\n",
       "    .dataframe tbody tr th:only-of-type {\n",
       "        vertical-align: middle;\n",
       "    }\n",
       "\n",
       "    .dataframe tbody tr th {\n",
       "        vertical-align: top;\n",
       "    }\n",
       "\n",
       "    .dataframe thead th {\n",
       "        text-align: right;\n",
       "    }\n",
       "</style>\n",
       "<table border=\"1\" class=\"dataframe\">\n",
       "  <thead>\n",
       "    <tr style=\"text-align: right;\">\n",
       "      <th></th>\n",
       "      <th>0</th>\n",
       "    </tr>\n",
       "  </thead>\n",
       "  <tbody>\n",
       "    <tr>\n",
       "      <th>0</th>\n",
       "      <td>34520.89</td>\n",
       "    </tr>\n",
       "    <tr>\n",
       "      <th>1</th>\n",
       "      <td>34520.89</td>\n",
       "    </tr>\n",
       "    <tr>\n",
       "      <th>2</th>\n",
       "      <td>7360772.93</td>\n",
       "    </tr>\n",
       "    <tr>\n",
       "      <th>3</th>\n",
       "      <td>2278494.02</td>\n",
       "    </tr>\n",
       "    <tr>\n",
       "      <th>4</th>\n",
       "      <td>2885686.73</td>\n",
       "    </tr>\n",
       "    <tr>\n",
       "      <th>...</th>\n",
       "      <td>...</td>\n",
       "    </tr>\n",
       "    <tr>\n",
       "      <th>25258</th>\n",
       "      <td>2208171.01</td>\n",
       "    </tr>\n",
       "    <tr>\n",
       "      <th>25259</th>\n",
       "      <td>6721211.74</td>\n",
       "    </tr>\n",
       "    <tr>\n",
       "      <th>25260</th>\n",
       "      <td>6721211.74</td>\n",
       "    </tr>\n",
       "    <tr>\n",
       "      <th>25261</th>\n",
       "      <td>84519375.17</td>\n",
       "    </tr>\n",
       "    <tr>\n",
       "      <th>25262</th>\n",
       "      <td>56182039.35</td>\n",
       "    </tr>\n",
       "  </tbody>\n",
       "</table>\n",
       "<p>25263 rows × 1 columns</p>\n",
       "</div>"
      ],
      "text/plain": [
       "                 0\n",
       "0         34520.89\n",
       "1         34520.89\n",
       "2       7360772.93\n",
       "3       2278494.02\n",
       "4       2885686.73\n",
       "...            ...\n",
       "25258   2208171.01\n",
       "25259   6721211.74\n",
       "25260   6721211.74\n",
       "25261  84519375.17\n",
       "25262  56182039.35\n",
       "\n",
       "[25263 rows x 1 columns]"
      ]
     },
     "execution_count": 24,
     "metadata": {},
     "output_type": "execute_result"
    }
   ],
   "source": [
    "#training labels \n",
    "Y = pd.read_csv('Y.csv')\n",
    "Y"
   ]
  },
  {
   "cell_type": "code",
   "execution_count": 25,
   "id": "20bde6a8",
   "metadata": {},
   "outputs": [
    {
     "data": {
      "text/html": [
       "<div>\n",
       "<style scoped>\n",
       "    .dataframe tbody tr th:only-of-type {\n",
       "        vertical-align: middle;\n",
       "    }\n",
       "\n",
       "    .dataframe tbody tr th {\n",
       "        vertical-align: top;\n",
       "    }\n",
       "\n",
       "    .dataframe thead th {\n",
       "        text-align: right;\n",
       "    }\n",
       "</style>\n",
       "<table border=\"1\" class=\"dataframe\">\n",
       "  <thead>\n",
       "    <tr style=\"text-align: right;\">\n",
       "      <th></th>\n",
       "      <th>Brnd_Name</th>\n",
       "      <th>Gnrc_Name</th>\n",
       "      <th>Mftr_Name</th>\n",
       "      <th>Tot_Dsg_Unts</th>\n",
       "      <th>Tot_Clms</th>\n",
       "      <th>Avg_Spnd_Per_Dsg_Unt_Wghtd</th>\n",
       "      <th>Avg_Spnd_Per_Clm</th>\n",
       "    </tr>\n",
       "  </thead>\n",
       "  <tbody>\n",
       "    <tr>\n",
       "      <th>0</th>\n",
       "      <td>0</td>\n",
       "      <td>0</td>\n",
       "      <td>0</td>\n",
       "      <td>275.00</td>\n",
       "      <td>179</td>\n",
       "      <td>1675.15</td>\n",
       "      <td>2025.17</td>\n",
       "    </tr>\n",
       "    <tr>\n",
       "      <th>1</th>\n",
       "      <td>0</td>\n",
       "      <td>0</td>\n",
       "      <td>1</td>\n",
       "      <td>275.00</td>\n",
       "      <td>179</td>\n",
       "      <td>1675.15</td>\n",
       "      <td>2025.17</td>\n",
       "    </tr>\n",
       "    <tr>\n",
       "      <th>2</th>\n",
       "      <td>1</td>\n",
       "      <td>1</td>\n",
       "      <td>0</td>\n",
       "      <td>1622835.00</td>\n",
       "      <td>15999</td>\n",
       "      <td>2.28</td>\n",
       "      <td>152.98</td>\n",
       "    </tr>\n",
       "    <tr>\n",
       "      <th>3</th>\n",
       "      <td>1</td>\n",
       "      <td>1</td>\n",
       "      <td>2</td>\n",
       "      <td>677310.00</td>\n",
       "      <td>5998</td>\n",
       "      <td>2.20</td>\n",
       "      <td>156.32</td>\n",
       "    </tr>\n",
       "    <tr>\n",
       "      <th>4</th>\n",
       "      <td>1</td>\n",
       "      <td>1</td>\n",
       "      <td>3</td>\n",
       "      <td>221192.00</td>\n",
       "      <td>3942</td>\n",
       "      <td>2.48</td>\n",
       "      <td>139.04</td>\n",
       "    </tr>\n",
       "    <tr>\n",
       "      <th>...</th>\n",
       "      <td>...</td>\n",
       "      <td>...</td>\n",
       "      <td>...</td>\n",
       "      <td>...</td>\n",
       "      <td>...</td>\n",
       "      <td>...</td>\n",
       "      <td>...</td>\n",
       "    </tr>\n",
       "    <tr>\n",
       "      <th>8416</th>\n",
       "      <td>2550</td>\n",
       "      <td>1165</td>\n",
       "      <td>64</td>\n",
       "      <td>83418.00</td>\n",
       "      <td>2416</td>\n",
       "      <td>23.20</td>\n",
       "      <td>835.30</td>\n",
       "    </tr>\n",
       "    <tr>\n",
       "      <th>8417</th>\n",
       "      <td>2551</td>\n",
       "      <td>1165</td>\n",
       "      <td>0</td>\n",
       "      <td>295501.76</td>\n",
       "      <td>8879</td>\n",
       "      <td>28.83</td>\n",
       "      <td>761.28</td>\n",
       "    </tr>\n",
       "    <tr>\n",
       "      <th>8418</th>\n",
       "      <td>2551</td>\n",
       "      <td>1165</td>\n",
       "      <td>501</td>\n",
       "      <td>295501.76</td>\n",
       "      <td>8879</td>\n",
       "      <td>28.83</td>\n",
       "      <td>761.28</td>\n",
       "    </tr>\n",
       "    <tr>\n",
       "      <th>8419</th>\n",
       "      <td>2552</td>\n",
       "      <td>1664</td>\n",
       "      <td>0</td>\n",
       "      <td>344872.00</td>\n",
       "      <td>4850</td>\n",
       "      <td>158.55</td>\n",
       "      <td>10231.95</td>\n",
       "    </tr>\n",
       "    <tr>\n",
       "      <th>8420</th>\n",
       "      <td>2552</td>\n",
       "      <td>1664</td>\n",
       "      <td>274</td>\n",
       "      <td>135720.00</td>\n",
       "      <td>1180</td>\n",
       "      <td>84.74</td>\n",
       "      <td>9746.32</td>\n",
       "    </tr>\n",
       "  </tbody>\n",
       "</table>\n",
       "<p>8421 rows × 7 columns</p>\n",
       "</div>"
      ],
      "text/plain": [
       "      Brnd_Name  Gnrc_Name  Mftr_Name  Tot_Dsg_Unts  Tot_Clms  \\\n",
       "0             0          0          0        275.00       179   \n",
       "1             0          0          1        275.00       179   \n",
       "2             1          1          0    1622835.00     15999   \n",
       "3             1          1          2     677310.00      5998   \n",
       "4             1          1          3     221192.00      3942   \n",
       "...         ...        ...        ...           ...       ...   \n",
       "8416       2550       1165         64      83418.00      2416   \n",
       "8417       2551       1165          0     295501.76      8879   \n",
       "8418       2551       1165        501     295501.76      8879   \n",
       "8419       2552       1664          0     344872.00      4850   \n",
       "8420       2552       1664        274     135720.00      1180   \n",
       "\n",
       "      Avg_Spnd_Per_Dsg_Unt_Wghtd  Avg_Spnd_Per_Clm  \n",
       "0                        1675.15           2025.17  \n",
       "1                        1675.15           2025.17  \n",
       "2                           2.28            152.98  \n",
       "3                           2.20            156.32  \n",
       "4                           2.48            139.04  \n",
       "...                          ...               ...  \n",
       "8416                       23.20            835.30  \n",
       "8417                       28.83            761.28  \n",
       "8418                       28.83            761.28  \n",
       "8419                      158.55          10231.95  \n",
       "8420                       84.74           9746.32  \n",
       "\n",
       "[8421 rows x 7 columns]"
      ]
     },
     "execution_count": 25,
     "metadata": {},
     "output_type": "execute_result"
    }
   ],
   "source": [
    "#test feature matrix\n",
    "Xtest = pd.read_csv('Xtest.csv')\n",
    "Xtest"
   ]
  },
  {
   "cell_type": "code",
   "execution_count": 26,
   "id": "630c35d3",
   "metadata": {},
   "outputs": [
    {
     "data": {
      "text/html": [
       "<div>\n",
       "<style scoped>\n",
       "    .dataframe tbody tr th:only-of-type {\n",
       "        vertical-align: middle;\n",
       "    }\n",
       "\n",
       "    .dataframe tbody tr th {\n",
       "        vertical-align: top;\n",
       "    }\n",
       "\n",
       "    .dataframe thead th {\n",
       "        text-align: right;\n",
       "    }\n",
       "</style>\n",
       "<table border=\"1\" class=\"dataframe\">\n",
       "  <thead>\n",
       "    <tr style=\"text-align: right;\">\n",
       "      <th></th>\n",
       "      <th>Tot_Spndng_2020</th>\n",
       "    </tr>\n",
       "  </thead>\n",
       "  <tbody>\n",
       "    <tr>\n",
       "      <th>0</th>\n",
       "      <td>11160.11</td>\n",
       "    </tr>\n",
       "    <tr>\n",
       "      <th>1</th>\n",
       "      <td>11160.11</td>\n",
       "    </tr>\n",
       "    <tr>\n",
       "      <th>2</th>\n",
       "      <td>1668418.74</td>\n",
       "    </tr>\n",
       "    <tr>\n",
       "      <th>3</th>\n",
       "      <td>741734.29</td>\n",
       "    </tr>\n",
       "    <tr>\n",
       "      <th>4</th>\n",
       "      <td>326056.77</td>\n",
       "    </tr>\n",
       "    <tr>\n",
       "      <th>...</th>\n",
       "      <td>...</td>\n",
       "    </tr>\n",
       "    <tr>\n",
       "      <th>8416</th>\n",
       "      <td>1880206.77</td>\n",
       "    </tr>\n",
       "    <tr>\n",
       "      <th>8417</th>\n",
       "      <td>5312667.87</td>\n",
       "    </tr>\n",
       "    <tr>\n",
       "      <th>8418</th>\n",
       "      <td>5312667.87</td>\n",
       "    </tr>\n",
       "    <tr>\n",
       "      <th>8419</th>\n",
       "      <td>34807960.04</td>\n",
       "    </tr>\n",
       "    <tr>\n",
       "      <th>8420</th>\n",
       "      <td>5612603.08</td>\n",
       "    </tr>\n",
       "  </tbody>\n",
       "</table>\n",
       "<p>8421 rows × 1 columns</p>\n",
       "</div>"
      ],
      "text/plain": [
       "      Tot_Spndng_2020\n",
       "0            11160.11\n",
       "1            11160.11\n",
       "2          1668418.74\n",
       "3           741734.29\n",
       "4           326056.77\n",
       "...               ...\n",
       "8416       1880206.77\n",
       "8417       5312667.87\n",
       "8418       5312667.87\n",
       "8419      34807960.04\n",
       "8420       5612603.08\n",
       "\n",
       "[8421 rows x 1 columns]"
      ]
     },
     "execution_count": 26,
     "metadata": {},
     "output_type": "execute_result"
    }
   ],
   "source": [
    "#test labels \n",
    "Ytest = pd.read_csv('Ytest.csv')\n",
    "Ytest"
   ]
  },
  {
   "cell_type": "markdown",
   "id": "53b1f7c8",
   "metadata": {},
   "source": [
    "Our next step is to convert the dataframes into matrices. Then, we will be ready to train our models."
   ]
  },
  {
   "cell_type": "code",
   "execution_count": 27,
   "id": "8081dacc",
   "metadata": {
    "scrolled": true
   },
   "outputs": [
    {
     "data": {
      "text/plain": [
       "array([[0.00000e+00, 0.00000e+00, 0.00000e+00, ..., 1.18900e+03,\n",
       "        1.52800e+01, 2.90300e+01],\n",
       "       [0.00000e+00, 0.00000e+00, 1.00000e+00, ..., 1.18900e+03,\n",
       "        1.52800e+01, 2.90300e+01],\n",
       "       [1.00000e+00, 1.00000e+00, 0.00000e+00, ..., 2.75960e+04,\n",
       "        4.56000e+00, 2.66730e+02],\n",
       "       ...,\n",
       "       [2.55100e+03, 1.16500e+03, 5.01000e+02, ..., 9.34300e+03,\n",
       "        2.28800e+01, 7.19380e+02],\n",
       "       [2.55200e+03, 1.66400e+03, 0.00000e+00, ..., 9.36200e+03,\n",
       "        1.05690e+02, 9.02792e+03],\n",
       "       [2.55200e+03, 1.66400e+03, 2.74000e+02, ..., 6.21800e+03,\n",
       "        7.93800e+01, 9.03539e+03]])"
      ]
     },
     "execution_count": 27,
     "metadata": {},
     "output_type": "execute_result"
    }
   ],
   "source": [
    "X_train = X.values\n",
    "Y_train = Y.values\n",
    "X_train"
   ]
  },
  {
   "cell_type": "markdown",
   "id": "3594d939",
   "metadata": {},
   "source": [
    "## Decision Tree: Best Model "
   ]
  },
  {
   "cell_type": "markdown",
   "id": "2b5f11b4",
   "metadata": {},
   "source": [
    "The decision tree regressor outperformed other models by a lot. "
   ]
  },
  {
   "cell_type": "code",
   "execution_count": 28,
   "id": "3975a967",
   "metadata": {},
   "outputs": [
    {
     "data": {
      "text/plain": [
       "array([[3.45208900e+04],\n",
       "       [3.45208900e+04],\n",
       "       [7.36077293e+06],\n",
       "       ...,\n",
       "       [6.72121174e+06],\n",
       "       [8.45193752e+07],\n",
       "       [5.61820394e+07]])"
      ]
     },
     "execution_count": 28,
     "metadata": {},
     "output_type": "execute_result"
    }
   ],
   "source": [
    "Y_train"
   ]
  },
  {
   "cell_type": "code",
   "execution_count": 29,
   "id": "5e09a98c",
   "metadata": {},
   "outputs": [],
   "source": [
    "X_test = Xtest.values\n",
    "Y_test = Ytest.values"
   ]
  },
  {
   "cell_type": "code",
   "execution_count": 30,
   "id": "422923bf",
   "metadata": {},
   "outputs": [
    {
     "data": {
      "text/plain": [
       "array([[0.000000e+00, 0.000000e+00, 0.000000e+00, ..., 1.790000e+02,\n",
       "        1.675150e+03, 2.025170e+03],\n",
       "       [0.000000e+00, 0.000000e+00, 1.000000e+00, ..., 1.790000e+02,\n",
       "        1.675150e+03, 2.025170e+03],\n",
       "       [1.000000e+00, 1.000000e+00, 0.000000e+00, ..., 1.599900e+04,\n",
       "        2.280000e+00, 1.529800e+02],\n",
       "       ...,\n",
       "       [2.551000e+03, 1.165000e+03, 5.010000e+02, ..., 8.879000e+03,\n",
       "        2.883000e+01, 7.612800e+02],\n",
       "       [2.552000e+03, 1.664000e+03, 0.000000e+00, ..., 4.850000e+03,\n",
       "        1.585500e+02, 1.023195e+04],\n",
       "       [2.552000e+03, 1.664000e+03, 2.740000e+02, ..., 1.180000e+03,\n",
       "        8.474000e+01, 9.746320e+03]])"
      ]
     },
     "execution_count": 30,
     "metadata": {},
     "output_type": "execute_result"
    }
   ],
   "source": [
    "X_test"
   ]
  },
  {
   "cell_type": "code",
   "execution_count": 31,
   "id": "db0cbdf8",
   "metadata": {},
   "outputs": [
    {
     "data": {
      "text/plain": [
       "array([[1.11601100e+04],\n",
       "       [1.11601100e+04],\n",
       "       [1.66841874e+06],\n",
       "       ...,\n",
       "       [5.31266787e+06],\n",
       "       [3.48079600e+07],\n",
       "       [5.61260308e+06]])"
      ]
     },
     "execution_count": 31,
     "metadata": {},
     "output_type": "execute_result"
    }
   ],
   "source": [
    "Y_test"
   ]
  },
  {
   "cell_type": "code",
   "execution_count": 392,
   "id": "49a13a4a",
   "metadata": {},
   "outputs": [],
   "source": [
    "from sklearn import tree\n",
    "tr = tree.DecisionTreeRegressor()\n",
    "treemodel = tr.fit(X_train, Y_train)"
   ]
  },
  {
   "cell_type": "code",
   "execution_count": 393,
   "id": "5f98487b",
   "metadata": {},
   "outputs": [
    {
     "data": {
      "text/plain": [
       "1.0"
      ]
     },
     "execution_count": 393,
     "metadata": {},
     "output_type": "execute_result"
    }
   ],
   "source": [
    "tr.score(X_train, Y_train)"
   ]
  },
  {
   "cell_type": "code",
   "execution_count": 394,
   "id": "4fe4fcab",
   "metadata": {},
   "outputs": [],
   "source": [
    "preds = treemodel.predict(X_test)"
   ]
  },
  {
   "cell_type": "code",
   "execution_count": 431,
   "id": "e436c1f0",
   "metadata": {},
   "outputs": [
    {
     "name": "stdout",
     "output_type": "stream",
     "text": [
      "Median absolute error: 99105.6499999999\n",
      "R2 score: 0.8858170863569498\n",
      "Median Medicare spending:301058.97\n"
     ]
    }
   ],
   "source": [
    "from sklearn import metrics\n",
    "#metrics.mean_absolute_error(preds, Y_test)\n",
    "print('Median absolute error: ' + str(metrics.median_absolute_error(preds, Y_test)))\n",
    "print('R2 score: ' + str(metrics.r2_score(preds, Y_test)))\n",
    "print('Median Medicare spending:' + str(np.median(Y_test)))"
   ]
  },
  {
   "cell_type": "code",
   "execution_count": 101,
   "id": "1df883c6",
   "metadata": {},
   "outputs": [],
   "source": [
    "preds = treemodel.predict(X_test)"
   ]
  },
  {
   "attachments": {},
   "cell_type": "markdown",
   "id": "1ecb5969",
   "metadata": {},
   "source": [
    "To visualize some results, we can look at the first 10 entries in our test feature matrix. Below is some information about these entries. \n",
    "\n",
    "**Entry 1**: Brand name: 8hr Arthristic Pain, generic name: Acetaminophen, manufacturer name: Overall\n",
    "<br>\n",
    "\n",
    "**Entry 2**: Brand name: 8hr Arthristic Pain, generic name: Acetaminophen, manufacturer name: Topco\n",
    "<br>\n",
    "\n",
    "**Entry 3**: Brand name: A & D, generic name: Vitamins A and D, manufacturer name: Overall\n",
    "<br>\n",
    "\n",
    "**Entry 4**: Brand name: A & D, generic name: Vitamins A and D, manufacturer name: Schering-Plough\n",
    "<br>\n",
    "\n",
    "**Entry 5**: Brand name: A And D, generic name: Vitamins A and D/ White Pet/ Lanolin, manufacturer name: Overall\n",
    "<br>\n",
    "\n",
    "**Entry 6**: Brand name: A And D, generic name: Vitamins A and D/ White Pet/ Lanolin, manufacturer name: Bayer Healthcare\n",
    "<br>\n",
    "\n",
    "**Entry 7**: Brand name: A and D, generic name: Diaper Rash Dimethic/Zinc Ox/Vits A,D/Aloe, manufacturer name: Overall\n",
    "<br>\n",
    "\n",
    "**Entry 8**: Brand name: A and D, generic name: Diaper Rash Dimethic/Zinc Ox/Vits A,D/Aloe, manufacturer name: Bayer Healthcare\n",
    "<br>\n",
    "\n",
    "**Entry 9**: Brand name: A-Hydrocort, generic name:\tHydrocortisone Sodium Succinate, manufacturer: Overall\n",
    "<br>\n",
    "\n",
    "**Entry 10**: Brand name: A-Hydrocort, generic name: Hydrocortisone Sod Succinate, manufacturer name: Hospira/Pfizer"
   ]
  },
  {
   "cell_type": "code",
   "execution_count": 198,
   "id": "1ba145cf",
   "metadata": {},
   "outputs": [],
   "source": [
    "pred_df = pd.DataFrame(preds)"
   ]
  },
  {
   "cell_type": "code",
   "execution_count": 205,
   "id": "623e2d57",
   "metadata": {},
   "outputs": [
    {
     "data": {
      "text/html": [
       "<div>\n",
       "<style scoped>\n",
       "    .dataframe tbody tr th:only-of-type {\n",
       "        vertical-align: middle;\n",
       "    }\n",
       "\n",
       "    .dataframe tbody tr th {\n",
       "        vertical-align: top;\n",
       "    }\n",
       "\n",
       "    .dataframe thead th {\n",
       "        text-align: right;\n",
       "    }\n",
       "</style>\n",
       "<table border=\"1\" class=\"dataframe\">\n",
       "  <thead>\n",
       "    <tr style=\"text-align: right;\">\n",
       "      <th></th>\n",
       "      <th>Predicted</th>\n",
       "    </tr>\n",
       "  </thead>\n",
       "  <tbody>\n",
       "    <tr>\n",
       "      <th>0</th>\n",
       "      <td>335417.23</td>\n",
       "    </tr>\n",
       "    <tr>\n",
       "      <th>1</th>\n",
       "      <td>335417.23</td>\n",
       "    </tr>\n",
       "    <tr>\n",
       "      <th>2</th>\n",
       "      <td>2504499.22</td>\n",
       "    </tr>\n",
       "    <tr>\n",
       "      <th>3</th>\n",
       "      <td>1017757.41</td>\n",
       "    </tr>\n",
       "    <tr>\n",
       "      <th>4</th>\n",
       "      <td>563627.55</td>\n",
       "    </tr>\n",
       "    <tr>\n",
       "      <th>5</th>\n",
       "      <td>127316.06</td>\n",
       "    </tr>\n",
       "    <tr>\n",
       "      <th>6</th>\n",
       "      <td>452010.80</td>\n",
       "    </tr>\n",
       "    <tr>\n",
       "      <th>7</th>\n",
       "      <td>4137687.93</td>\n",
       "    </tr>\n",
       "    <tr>\n",
       "      <th>8</th>\n",
       "      <td>302434.84</td>\n",
       "    </tr>\n",
       "    <tr>\n",
       "      <th>9</th>\n",
       "      <td>608912.76</td>\n",
       "    </tr>\n",
       "  </tbody>\n",
       "</table>\n",
       "</div>"
      ],
      "text/plain": [
       "    Predicted\n",
       "0   335417.23\n",
       "1   335417.23\n",
       "2  2504499.22\n",
       "3  1017757.41\n",
       "4   563627.55\n",
       "5   127316.06\n",
       "6   452010.80\n",
       "7  4137687.93\n",
       "8   302434.84\n",
       "9   608912.76"
      ]
     },
     "execution_count": 205,
     "metadata": {},
     "output_type": "execute_result"
    }
   ],
   "source": [
    "pred10_df = pred_df.iloc[:10, :]\n",
    "pred10_df"
   ]
  },
  {
   "cell_type": "code",
   "execution_count": 206,
   "id": "f5674ea3",
   "metadata": {},
   "outputs": [
    {
     "data": {
      "text/html": [
       "<div>\n",
       "<style scoped>\n",
       "    .dataframe tbody tr th:only-of-type {\n",
       "        vertical-align: middle;\n",
       "    }\n",
       "\n",
       "    .dataframe tbody tr th {\n",
       "        vertical-align: top;\n",
       "    }\n",
       "\n",
       "    .dataframe thead th {\n",
       "        text-align: right;\n",
       "    }\n",
       "</style>\n",
       "<table border=\"1\" class=\"dataframe\">\n",
       "  <thead>\n",
       "    <tr style=\"text-align: right;\">\n",
       "      <th></th>\n",
       "      <th>Tot_Spndng_2020</th>\n",
       "    </tr>\n",
       "  </thead>\n",
       "  <tbody>\n",
       "    <tr>\n",
       "      <th>0</th>\n",
       "      <td>11160.11</td>\n",
       "    </tr>\n",
       "    <tr>\n",
       "      <th>1</th>\n",
       "      <td>11160.11</td>\n",
       "    </tr>\n",
       "    <tr>\n",
       "      <th>2</th>\n",
       "      <td>1668418.74</td>\n",
       "    </tr>\n",
       "    <tr>\n",
       "      <th>3</th>\n",
       "      <td>741734.29</td>\n",
       "    </tr>\n",
       "    <tr>\n",
       "      <th>4</th>\n",
       "      <td>326056.77</td>\n",
       "    </tr>\n",
       "    <tr>\n",
       "      <th>5</th>\n",
       "      <td>19480.06</td>\n",
       "    </tr>\n",
       "    <tr>\n",
       "      <th>6</th>\n",
       "      <td>256538.90</td>\n",
       "    </tr>\n",
       "    <tr>\n",
       "      <th>7</th>\n",
       "      <td>3063316.88</td>\n",
       "    </tr>\n",
       "    <tr>\n",
       "      <th>8</th>\n",
       "      <td>55050.20</td>\n",
       "    </tr>\n",
       "    <tr>\n",
       "      <th>9</th>\n",
       "      <td>775718.23</td>\n",
       "    </tr>\n",
       "  </tbody>\n",
       "</table>\n",
       "</div>"
      ],
      "text/plain": [
       "   Tot_Spndng_2020\n",
       "0         11160.11\n",
       "1         11160.11\n",
       "2       1668418.74\n",
       "3        741734.29\n",
       "4        326056.77\n",
       "5         19480.06\n",
       "6        256538.90\n",
       "7       3063316.88\n",
       "8         55050.20\n",
       "9        775718.23"
      ]
     },
     "execution_count": 206,
     "metadata": {},
     "output_type": "execute_result"
    }
   ],
   "source": [
    "actual10_df = Ytest.iloc[: 10, :]\n",
    "actual10_df"
   ]
  },
  {
   "cell_type": "code",
   "execution_count": 207,
   "id": "e0414597",
   "metadata": {},
   "outputs": [
    {
     "data": {
      "text/html": [
       "<div>\n",
       "<style scoped>\n",
       "    .dataframe tbody tr th:only-of-type {\n",
       "        vertical-align: middle;\n",
       "    }\n",
       "\n",
       "    .dataframe tbody tr th {\n",
       "        vertical-align: top;\n",
       "    }\n",
       "\n",
       "    .dataframe thead th {\n",
       "        text-align: right;\n",
       "    }\n",
       "</style>\n",
       "<table border=\"1\" class=\"dataframe\">\n",
       "  <thead>\n",
       "    <tr style=\"text-align: right;\">\n",
       "      <th></th>\n",
       "      <th>Predicted</th>\n",
       "      <th>Actual</th>\n",
       "      <th>index</th>\n",
       "    </tr>\n",
       "  </thead>\n",
       "  <tbody>\n",
       "    <tr>\n",
       "      <th>0</th>\n",
       "      <td>335417.23</td>\n",
       "      <td>11160.11</td>\n",
       "      <td>0</td>\n",
       "    </tr>\n",
       "    <tr>\n",
       "      <th>1</th>\n",
       "      <td>335417.23</td>\n",
       "      <td>11160.11</td>\n",
       "      <td>1</td>\n",
       "    </tr>\n",
       "    <tr>\n",
       "      <th>2</th>\n",
       "      <td>2504499.22</td>\n",
       "      <td>1668418.74</td>\n",
       "      <td>2</td>\n",
       "    </tr>\n",
       "    <tr>\n",
       "      <th>3</th>\n",
       "      <td>1017757.41</td>\n",
       "      <td>741734.29</td>\n",
       "      <td>3</td>\n",
       "    </tr>\n",
       "    <tr>\n",
       "      <th>4</th>\n",
       "      <td>563627.55</td>\n",
       "      <td>326056.77</td>\n",
       "      <td>4</td>\n",
       "    </tr>\n",
       "    <tr>\n",
       "      <th>5</th>\n",
       "      <td>127316.06</td>\n",
       "      <td>19480.06</td>\n",
       "      <td>5</td>\n",
       "    </tr>\n",
       "    <tr>\n",
       "      <th>6</th>\n",
       "      <td>452010.80</td>\n",
       "      <td>256538.90</td>\n",
       "      <td>6</td>\n",
       "    </tr>\n",
       "    <tr>\n",
       "      <th>7</th>\n",
       "      <td>4137687.93</td>\n",
       "      <td>3063316.88</td>\n",
       "      <td>7</td>\n",
       "    </tr>\n",
       "    <tr>\n",
       "      <th>8</th>\n",
       "      <td>302434.84</td>\n",
       "      <td>55050.20</td>\n",
       "      <td>8</td>\n",
       "    </tr>\n",
       "    <tr>\n",
       "      <th>9</th>\n",
       "      <td>608912.76</td>\n",
       "      <td>775718.23</td>\n",
       "      <td>9</td>\n",
       "    </tr>\n",
       "  </tbody>\n",
       "</table>\n",
       "</div>"
      ],
      "text/plain": [
       "    Predicted      Actual  index\n",
       "0   335417.23    11160.11      0\n",
       "1   335417.23    11160.11      1\n",
       "2  2504499.22  1668418.74      2\n",
       "3  1017757.41   741734.29      3\n",
       "4   563627.55   326056.77      4\n",
       "5   127316.06    19480.06      5\n",
       "6   452010.80   256538.90      6\n",
       "7  4137687.93  3063316.88      7\n",
       "8   302434.84    55050.20      8\n",
       "9   608912.76   775718.23      9"
      ]
     },
     "execution_count": 207,
     "metadata": {},
     "output_type": "execute_result"
    }
   ],
   "source": [
    "import seaborn as sns\n",
    "\n",
    "preds = pd.concat([pred10_df, actual10_df], axis=1)\n",
    "preds = preds.rename(columns={0: 'Predicted', 'Tot_Spndng_2020': 'Actual'})\n",
    "preds['index'] = preds.index\n",
    "preds"
   ]
  },
  {
   "cell_type": "code",
   "execution_count": 208,
   "id": "579cc75f",
   "metadata": {},
   "outputs": [
    {
     "data": {
      "text/plain": [
       "Text(0, 0.5, 'Medicaid Spending')"
      ]
     },
     "execution_count": 208,
     "metadata": {},
     "output_type": "execute_result"
    },
    {
     "data": {
      "image/png": "[encoded data removed]",
      "text/plain": [
       "<Figure size 640x480 with 1 Axes>"
      ]
     },
     "metadata": {},
     "output_type": "display_data"
    }
   ],
   "source": [
    "preds.plot(x=\"index\", y=[\"Predicted\", \"Actual\"], kind=\"bar\")\n",
    "plt.xlabel('Sample Number')\n",
    "plt.ylabel('Medicaid Spending')"
   ]
  },
  {
   "cell_type": "markdown",
   "id": "581837fc",
   "metadata": {},
   "source": [
    "### Ensemble methods: bagging and boosting "
   ]
  },
  {
   "cell_type": "markdown",
   "id": "bd67a6df",
   "metadata": {},
   "source": [
    "As seen by the graph, while most predictions achieve acurracy within half a million dollars, there is room for improvement. So I tried a few ensemble methods. First, I tried bagging. "
   ]
  },
  {
   "cell_type": "code",
   "execution_count": 221,
   "id": "e21129de",
   "metadata": {},
   "outputs": [],
   "source": [
    "from sklearn.ensemble import BaggingRegressor"
   ]
  },
  {
   "cell_type": "code",
   "execution_count": 396,
   "id": "16e67e67",
   "metadata": {},
   "outputs": [],
   "source": [
    "#bagging = BaggingRegressor(tr, max_samples=0.5, max_features=0.5) #achieved 70% acurracy \n",
    "bagging = BaggingRegressor(tr)"
   ]
  },
  {
   "cell_type": "code",
   "execution_count": 397,
   "id": "a86c3cd9",
   "metadata": {},
   "outputs": [],
   "source": [
    "bagtree = bagging.fit(X_train, y_train)"
   ]
  },
  {
   "cell_type": "code",
   "execution_count": 398,
   "id": "1af21d3d",
   "metadata": {},
   "outputs": [],
   "source": [
    "bagpred = bagtree.predict(X_test)"
   ]
  },
  {
   "cell_type": "code",
   "execution_count": 399,
   "id": "3b332943",
   "metadata": {},
   "outputs": [
    {
     "name": "stdout",
     "output_type": "stream",
     "text": [
      "Median absolute error: 98864.762\n"
     ]
    }
   ],
   "source": [
    "print('Median absolute error: ' + str(metrics.median_absolute_error(bagpred, Y_test)))\n",
    "#metrics.mean_squared_error(bagpred, Y_test)"
   ]
  },
  {
   "cell_type": "code",
   "execution_count": 400,
   "id": "277662c5",
   "metadata": {},
   "outputs": [
    {
     "name": "stdout",
     "output_type": "stream",
     "text": [
      "0.9976496791052716\n"
     ]
    }
   ],
   "source": [
    "print(bagging.score(X_train, y_train))"
   ]
  },
  {
   "cell_type": "code",
   "execution_count": 401,
   "id": "3a1ec198",
   "metadata": {},
   "outputs": [
    {
     "name": "stdout",
     "output_type": "stream",
     "text": [
      "0.9077812030524397\n"
     ]
    }
   ],
   "source": [
    "print(bagging.score(X_test, Y_test))"
   ]
  },
  {
   "cell_type": "markdown",
   "id": "22d85386",
   "metadata": {},
   "source": [
    "It appears that bagging does not significantly change the accuracy. Changing the parameters of bagging (see commented out code), however, yielded lower results, so I ended up just using the default parameters. "
   ]
  },
  {
   "cell_type": "markdown",
   "id": "e6170b0f",
   "metadata": {},
   "source": [
    "Next, I tried boosting, but the results were worse. "
   ]
  },
  {
   "cell_type": "code",
   "execution_count": 299,
   "id": "e8ec8cd0",
   "metadata": {},
   "outputs": [],
   "source": [
    "from sklearn.ensemble import AdaBoostRegressor"
   ]
  },
  {
   "cell_type": "code",
   "execution_count": 426,
   "id": "44cf116e",
   "metadata": {},
   "outputs": [],
   "source": [
    "m = AdaBoostRegressor(n_estimators=15)"
   ]
  },
  {
   "cell_type": "code",
   "execution_count": 427,
   "id": "fcc273fc",
   "metadata": {},
   "outputs": [],
   "source": [
    "adaboost = m.fit(X_train, y_train)"
   ]
  },
  {
   "cell_type": "code",
   "execution_count": 428,
   "id": "68135f1b",
   "metadata": {},
   "outputs": [
    {
     "data": {
      "text/plain": [
       "0.7806827290579148"
      ]
     },
     "execution_count": 428,
     "metadata": {},
     "output_type": "execute_result"
    }
   ],
   "source": [
    "adaboost.score(X_train, y_train)"
   ]
  },
  {
   "cell_type": "code",
   "execution_count": 429,
   "id": "a107a992",
   "metadata": {},
   "outputs": [
    {
     "name": "stdout",
     "output_type": "stream",
     "text": [
      "Median absolute error: 9719687.496633578\n"
     ]
    }
   ],
   "source": [
    "adapred = adaboost.predict(X_test)\n",
    "print('Median absolute error: ' + str(metrics.median_absolute_error(adapred, Y_test)))"
   ]
  },
  {
   "cell_type": "markdown",
   "id": "785cdeba",
   "metadata": {},
   "source": [
    "### Ensemble method: majority vote "
   ]
  },
  {
   "cell_type": "markdown",
   "id": "6138300f",
   "metadata": {},
   "source": [
    "I also tried a majority vote regressor, using my top 3 performers (KNN, SVM, and decision tree regressors). It did not perform as well as the decision tree regressor, likely due to the fact that the other two regressors did not perform as well. "
   ]
  },
  {
   "cell_type": "code",
   "execution_count": 478,
   "id": "2da2c858",
   "metadata": {},
   "outputs": [],
   "source": [
    "from sklearn.ensemble import VotingRegressor\n",
    "\n",
    "# Training classifiers\n",
    "knn = KNeighborsRegressor(n_neighbors=5)\n",
    "votereg = VotingRegressor(estimators=[('gb', treemodel), ('rf', knn), ('lr', svmmodel)])\n",
    "votereg = votereg.fit(X_train, y_train)"
   ]
  },
  {
   "cell_type": "code",
   "execution_count": 479,
   "id": "6413caaf",
   "metadata": {},
   "outputs": [
    {
     "name": "stdout",
     "output_type": "stream",
     "text": [
      "R2 score: 0.5479414656818276\n",
      "Median absolute error: 324999.069549565\n"
     ]
    }
   ],
   "source": [
    "votepred = votereg.predict(X_test)\n",
    "print('R2 score: ' + str(votereg.score(X_test, Y_test)))\n",
    "print('Median absolute error: ' + str(metrics.median_absolute_error(votepred, Y_test)))"
   ]
  },
  {
   "cell_type": "markdown",
   "id": "4c189a8e",
   "metadata": {},
   "source": [
    "Below is an illustrative plot with the predicted values for the three models as well as the actual value (shown in magenta)."
   ]
  },
  {
   "cell_type": "code",
   "execution_count": 485,
   "id": "c2818299",
   "metadata": {},
   "outputs": [
    {
     "data": {
      "image/png": "[encoded data removed]",
      "text/plain": [
       "<Figure size 640x480 with 1 Axes>"
      ]
     },
     "metadata": {},
     "output_type": "display_data"
    }
   ],
   "source": [
    "pred1 = treemodel.predict(X_train)\n",
    "knn.fit(X_train, Y_train)\n",
    "pred2 = knn.predict(X_train)\n",
    "pred3 = svmmodel.predict(X_train)\n",
    "pred4 = votereg.predict(X_train)\n",
    "\n",
    "plt.figure()\n",
    "plt.plot(pred1, \"gd\", label=\"DecisionTreeRegressor\")\n",
    "plt.plot(pred2, \"b^\", label=\"kNNRegressor\")\n",
    "plt.plot(pred3, \"ys\", label=\"SVMRegressor\")\n",
    "plt.plot(pred4, \"r*\", ms=10, label=\"VotingRegressor\")\n",
    "\n",
    "plt.tick_params(axis=\"x\", which=\"both\", bottom=False, top=False, labelbottom=False)\n",
    "plt.ylabel(\"predicted\")\n",
    "plt.xlabel(\"training samples\")\n",
    "plt.legend(loc=\"best\")\n",
    "plt.title(\"Regressor predictions and their average\")\n",
    "\n",
    "plt.show()"
   ]
  },
  {
   "cell_type": "markdown",
   "id": "fa7abc15",
   "metadata": {},
   "source": [
    "We see that in general, the voting regressor was not good for outliers, as it tended to predict all values to be less than 1 million. The actual values of the test data, seen below, appear to show more variability than the predictions from the voting regressor. The decision tree regressor, on the other hand, captured the variability better. "
   ]
  },
  {
   "cell_type": "code",
   "execution_count": 486,
   "id": "72221087",
   "metadata": {},
   "outputs": [
    {
     "data": {
      "image/png": "[encoded data removed]",
      "text/plain": [
       "<Figure size 640x480 with 1 Axes>"
      ]
     },
     "metadata": {},
     "output_type": "display_data"
    }
   ],
   "source": [
    "plt.plot(Y_train, \"mX\", label=\"ActualSpending\")\n",
    "plt.show()"
   ]
  },
  {
   "cell_type": "markdown",
   "id": "1c3b5a14",
   "metadata": {},
   "source": [
    "## Other models "
   ]
  },
  {
   "cell_type": "markdown",
   "id": "fef586da",
   "metadata": {},
   "source": [
    "The other models that are standard in the field that I tried were not as successful as the decision tree regressor- not even the Perceptron! "
   ]
  },
  {
   "cell_type": "markdown",
   "id": "5b29cc18",
   "metadata": {},
   "source": [
    "### Nearest Neighbors Regressor "
   ]
  },
  {
   "cell_type": "markdown",
   "id": "747af500",
   "metadata": {},
   "source": [
    "The first regressor I tried was the kNN regressor, which is simple and quick to implement. Usually, the advice is to try the square root of the sample size as the number of neighbors, so I ran kNN using various numbers close to 158. Then, I realized that if I decreased the number of neighbors, the MSE decreased as well, so I ended up testing the model for the full range of neighbors from 1 to 180, achieving 350,728 as the minimum MSE, which is still higher than the decision tree model MSE. Additionally, the R2 scores were much lower. "
   ]
  },
  {
   "cell_type": "code",
   "execution_count": 16,
   "id": "25bbd02f",
   "metadata": {},
   "outputs": [],
   "source": [
    "from sklearn.neighbors import KNeighborsRegressor"
   ]
  },
  {
   "cell_type": "code",
   "execution_count": 470,
   "id": "9619336f",
   "metadata": {},
   "outputs": [
    {
     "name": "stdout",
     "output_type": "stream",
     "text": [
      "     K  Test Score  Train Score            MSE\n",
      "0    1   -0.149832     1.000000  350728.760000\n",
      "1    2   -0.197376     0.939419  382183.520000\n",
      "2    3   -0.033292     0.796533  425457.986667\n",
      "3    4    0.011511     0.697518  464766.895000\n",
      "4    5    0.008146     0.631128  490777.104000\n",
      "..  ..         ...          ...            ...\n",
      "74  75    0.113607     0.167900  886115.547733\n",
      "75  76    0.113455     0.166780  896606.630395\n",
      "76  77    0.113588     0.165770  900574.578961\n",
      "77  78    0.113309     0.165087  913635.656923\n",
      "78  79    0.114145     0.164297  913270.800127\n",
      "\n",
      "[79 rows x 4 columns]\n"
     ]
    }
   ],
   "source": [
    "knn_r_acc = []\n",
    "\n",
    "for i in range(1,80,1):\n",
    "    knn = KNeighborsRegressor(n_neighbors=i)\n",
    "    knn.fit(X_train,Y_train)\n",
    "    test_score = knn.score(X_test,Y_test)\n",
    "    knnpred = knn.predict(X_test)\n",
    "    train_score = knn.score(X_train,Y_train)\n",
    "    mse = metrics.median_absolute_error(knnpred, Y_test)\n",
    "    knn_r_acc.append((i, test_score ,train_score, mse))\n",
    "df = pd.DataFrame(knn_r_acc, columns=['K','Test Score','Train Score', 'MSE'])\n",
    "print(df)"
   ]
  },
  {
   "cell_type": "code",
   "execution_count": 476,
   "id": "5aec28d5",
   "metadata": {},
   "outputs": [
    {
     "data": {
      "text/plain": [
       "350728.76"
      ]
     },
     "execution_count": 476,
     "metadata": {},
     "output_type": "execute_result"
    }
   ],
   "source": [
    "min(df['MSE']) #minimum MSE for 1 - 80 neighbors "
   ]
  },
  {
   "cell_type": "code",
   "execution_count": 469,
   "id": "03b76e3c",
   "metadata": {},
   "outputs": [
    {
     "name": "stdout",
     "output_type": "stream",
     "text": [
      "      K  Test Score  Train Score           MSE\n",
      "0    80    0.114681     0.163818  9.283541e+05\n",
      "1    81    0.113618     0.164103  9.400526e+05\n",
      "2    82    0.114783     0.163990  9.455068e+05\n",
      "3    83    0.116894     0.162939  9.597270e+05\n",
      "4    84    0.117151     0.161735  9.577502e+05\n",
      "5    85    0.116744     0.161236  9.620335e+05\n",
      "6    86    0.116328     0.160860  9.624044e+05\n",
      "7    87    0.115431     0.160359  9.706237e+05\n",
      "8    88    0.114627     0.160139  9.747260e+05\n",
      "9    89    0.114234     0.159680  9.757775e+05\n",
      "10   90    0.114157     0.159026  9.744968e+05\n",
      "11   91    0.113797     0.158490  9.703953e+05\n",
      "12   92    0.112735     0.157700  9.805683e+05\n",
      "13   93    0.112496     0.156699  9.888850e+05\n",
      "14   94    0.112487     0.155664  9.944291e+05\n",
      "15   95    0.112305     0.154866  9.908855e+05\n",
      "16   96    0.111706     0.153896  9.878611e+05\n",
      "17   97    0.110780     0.152958  9.839637e+05\n",
      "18   98    0.109880     0.152621  9.888762e+05\n",
      "19   99    0.108970     0.152718  9.969404e+05\n",
      "20  100    0.107984     0.152465  9.959452e+05\n",
      "21  101    0.107256     0.151896  1.006674e+06\n",
      "22  102    0.106513     0.151128  1.015133e+06\n",
      "23  103    0.105871     0.150192  1.014351e+06\n",
      "24  104    0.107653     0.149413  1.014081e+06\n",
      "25  105    0.108976     0.148366  1.005767e+06\n",
      "26  106    0.108954     0.147749  1.021545e+06\n",
      "27  107    0.109414     0.147634  1.025556e+06\n",
      "28  108    0.109229     0.147087  1.025544e+06\n",
      "29  109    0.108667     0.146237  1.031835e+06\n",
      "30  110    0.108863     0.145518  1.043659e+06\n",
      "31  111    0.108926     0.145361  1.038366e+06\n",
      "32  112    0.108809     0.145094  1.034473e+06\n",
      "33  113    0.108402     0.144519  1.042180e+06\n",
      "34  114    0.107816     0.143997  1.047696e+06\n",
      "35  115    0.107752     0.143215  1.052292e+06\n",
      "36  116    0.108002     0.142451  1.046653e+06\n",
      "37  117    0.109228     0.141740  1.047317e+06\n",
      "38  118    0.110568     0.140919  1.053580e+06\n",
      "39  119    0.110388     0.140224  1.054651e+06\n"
     ]
    }
   ],
   "source": [
    "knn_r_acc = []\n",
    "\n",
    "for i in range(80,120,1):\n",
    "    knn = KNeighborsRegressor(n_neighbors=i)\n",
    "    knn.fit(X_train,Y_train)\n",
    "    test_score = knn.score(X_test,Y_test)\n",
    "    knnpred = knn.predict(X_test)\n",
    "    train_score = knn.score(X_train,Y_train)\n",
    "    mse = metrics.median_absolute_error(knnpred, Y_test)\n",
    "    knn_r_acc.append((i, test_score ,train_score, mse))\n",
    "df = pd.DataFrame(knn_r_acc, columns=['K','Test Score','Train Score', 'MSE'])\n",
    "print(df)"
   ]
  },
  {
   "cell_type": "code",
   "execution_count": 467,
   "id": "39c2242b",
   "metadata": {},
   "outputs": [
    {
     "name": "stdout",
     "output_type": "stream",
     "text": [
      "      K  Test Score  Train Score           MSE\n",
      "0   120    0.110733     0.139297  1.052701e+06\n",
      "1   121    0.110643     0.138950  1.054482e+06\n",
      "2   122    0.110910     0.138949  1.053854e+06\n",
      "3   123    0.111508     0.138531  1.062280e+06\n",
      "4   124    0.111016     0.137853  1.062312e+06\n",
      "5   125    0.110331     0.137005  1.064161e+06\n",
      "6   126    0.110050     0.136174  1.068147e+06\n",
      "7   127    0.110631     0.135434  1.077805e+06\n",
      "8   128    0.111868     0.134781  1.080331e+06\n",
      "9   129    0.111247     0.134269  1.088451e+06\n",
      "10  130    0.110539     0.133715  1.110136e+06\n",
      "11  131    0.109951     0.133434  1.116709e+06\n",
      "12  132    0.109598     0.133061  1.131261e+06\n",
      "13  133    0.109328     0.132515  1.122044e+06\n",
      "14  134    0.109272     0.131862  1.125835e+06\n",
      "15  135    0.109657     0.131701  1.126438e+06\n",
      "16  136    0.110061     0.131508  1.122266e+06\n",
      "17  137    0.110270     0.131322  1.133948e+06\n",
      "18  138    0.111328     0.131176  1.128300e+06\n",
      "19  139    0.111910     0.130760  1.135656e+06\n",
      "20  140    0.111824     0.130587  1.145944e+06\n",
      "21  141    0.111646     0.130786  1.143944e+06\n",
      "22  142    0.110935     0.130603  1.141546e+06\n",
      "23  143    0.110356     0.130197  1.137828e+06\n",
      "24  144    0.110183     0.129775  1.131088e+06\n",
      "25  145    0.109797     0.129484  1.135914e+06\n",
      "26  146    0.109084     0.129505  1.143271e+06\n",
      "27  147    0.108977     0.129223  1.141793e+06\n",
      "28  148    0.108849     0.128791  1.139943e+06\n",
      "29  149    0.108155     0.128234  1.141235e+06\n"
     ]
    }
   ],
   "source": [
    "knn_r_acc = []\n",
    "\n",
    "for i in range(120,150,1):\n",
    "    knn = KNeighborsRegressor(n_neighbors=i)\n",
    "    knn.fit(X_train,Y_train)\n",
    "    test_score = knn.score(X_test,Y_test)\n",
    "    knnpred = knn.predict(X_test)\n",
    "    train_score = knn.score(X_train,Y_train)\n",
    "    mse = metrics.median_absolute_error(knnpred, Y_test)\n",
    "    knn_r_acc.append((i, test_score ,train_score, mse))\n",
    "df = pd.DataFrame(knn_r_acc, columns=['K','Test Score','Train Score', 'MSE'])\n",
    "print(df)"
   ]
  },
  {
   "cell_type": "code",
   "execution_count": 468,
   "id": "fcef880d",
   "metadata": {},
   "outputs": [
    {
     "name": "stdout",
     "output_type": "stream",
     "text": [
      "      K  Test Score  Train Score           MSE\n",
      "0   150    0.107868     0.127979  1.154461e+06\n",
      "1   151    0.107792     0.128023  1.155815e+06\n",
      "2   152    0.107225     0.127794  1.162206e+06\n",
      "3   153    0.106679     0.127309  1.184620e+06\n",
      "4   154    0.106162     0.126797  1.185870e+06\n",
      "5   155    0.105847     0.126144  1.184871e+06\n",
      "6   156    0.105564     0.125602  1.190389e+06\n",
      "7   157    0.104923     0.125015  1.194250e+06\n",
      "8   158    0.104432     0.124771  1.194826e+06\n",
      "9   159    0.104129     0.124535  1.192329e+06\n",
      "10  160    0.103960     0.124146  1.196099e+06\n",
      "11  161    0.103718     0.123949  1.193377e+06\n",
      "12  162    0.103324     0.123516  1.205722e+06\n",
      "13  163    0.103459     0.123013  1.207239e+06\n",
      "14  164    0.103869     0.122654  1.205973e+06\n",
      "15  165    0.103819     0.122367  1.219260e+06\n",
      "16  166    0.103550     0.122189  1.223451e+06\n",
      "17  167    0.103085     0.121783  1.252242e+06\n",
      "18  168    0.102427     0.121274  1.248046e+06\n",
      "19  169    0.101807     0.120639  1.243644e+06\n",
      "20  170    0.101378     0.120258  1.244183e+06\n",
      "21  171    0.101047     0.119929  1.253174e+06\n",
      "22  172    0.100627     0.119381  1.255002e+06\n",
      "23  173    0.100381     0.118985  1.264585e+06\n",
      "24  174    0.100215     0.118573  1.272583e+06\n",
      "25  175    0.099681     0.118128  1.292047e+06\n",
      "26  176    0.099636     0.117770  1.286019e+06\n",
      "27  177    0.100002     0.117800  1.280807e+06\n",
      "28  178    0.099972     0.117762  1.289360e+06\n",
      "29  179    0.100078     0.117566  1.293597e+06\n"
     ]
    }
   ],
   "source": [
    "knn_r_acc = []\n",
    "\n",
    "for i in range(150,180,1):\n",
    "    knn = KNeighborsRegressor(n_neighbors=i)\n",
    "    knn.fit(X_train,Y_train)\n",
    "    test_score = knn.score(X_test,Y_test)\n",
    "    knnpred = knn.predict(X_test)\n",
    "    train_score = knn.score(X_train,Y_train)\n",
    "    mse = metrics.median_absolute_error(knnpred, Y_test)\n",
    "    knn_r_acc.append((i, test_score ,train_score, mse))\n",
    "df = pd.DataFrame(knn_r_acc, columns=['K','Test Score','Train Score', 'MSE'])\n",
    "print(df)"
   ]
  },
  {
   "cell_type": "markdown",
   "id": "aebe5dbc",
   "metadata": {},
   "source": [
    "### Linear Regressors "
   ]
  },
  {
   "cell_type": "markdown",
   "id": "dd73f1d9",
   "metadata": {},
   "source": [
    "I also tried some basic linear regressors, which performed the worst of all the models I tried. The Perceptron outperformed the classic linear regressors (unsurprisingly), but did not perform significantly better than kNN. First on the list was the classic linear regression model. "
   ]
  },
  {
   "cell_type": "code",
   "execution_count": 454,
   "id": "05a46c17",
   "metadata": {},
   "outputs": [],
   "source": [
    "from sklearn import linear_model\n",
    "linreg = linear_model.LinearRegression()\n",
    "linmodel = linreg.fit(X_train, Y_train)"
   ]
  },
  {
   "cell_type": "code",
   "execution_count": 456,
   "id": "d4891e31",
   "metadata": {},
   "outputs": [],
   "source": [
    "linpred = linmodel.predict(X_test)"
   ]
  },
  {
   "cell_type": "code",
   "execution_count": 455,
   "id": "d34f6722",
   "metadata": {},
   "outputs": [
    {
     "name": "stdout",
     "output_type": "stream",
     "text": [
      "0.0784861916347751\n"
     ]
    }
   ],
   "source": [
    "print(linmodel.score(X_test, Y_test))"
   ]
  },
  {
   "cell_type": "code",
   "execution_count": 458,
   "id": "1b585b11",
   "metadata": {},
   "outputs": [
    {
     "name": "stdout",
     "output_type": "stream",
     "text": [
      "Median absolute error:7585091.394977176\n"
     ]
    }
   ],
   "source": [
    "print('Median absolute error:' + str(metrics.median_absolute_error(linpred, Y_test)))"
   ]
  },
  {
   "cell_type": "markdown",
   "id": "311daab3",
   "metadata": {},
   "source": [
    "Next, I tried ridge regression, achieving about the same MSE. "
   ]
  },
  {
   "cell_type": "code",
   "execution_count": 460,
   "id": "5277cc2a",
   "metadata": {},
   "outputs": [],
   "source": [
    "ridgereg = linear_model.Ridge(alpha=.5)\n",
    "ridgemodel = ridgereg.fit(X_train, Y_train)"
   ]
  },
  {
   "cell_type": "code",
   "execution_count": 461,
   "id": "2575b6a3",
   "metadata": {},
   "outputs": [
    {
     "name": "stdout",
     "output_type": "stream",
     "text": [
      "0.07848619163466375\n"
     ]
    }
   ],
   "source": [
    "print(ridgemodel.score(X_test, Y_test))"
   ]
  },
  {
   "cell_type": "code",
   "execution_count": 462,
   "id": "da9dcb81",
   "metadata": {},
   "outputs": [
    {
     "name": "stdout",
     "output_type": "stream",
     "text": [
      "Median absolute error: 7585091.395852613\n"
     ]
    }
   ],
   "source": [
    "ridgepreds = ridgemodel.predict(X_test)\n",
    "print('Median absolute error: ' + str(metrics.median_absolute_error(ridgepreds, Y_test)))"
   ]
  },
  {
   "cell_type": "markdown",
   "id": "ef267043",
   "metadata": {},
   "source": [
    "Finally, I tried the Perceptron regressor, which took longer to train and yielded much better accuracy than the classical regressors, but the MSE was still quite high. "
   ]
  },
  {
   "cell_type": "code",
   "execution_count": 248,
   "id": "8e6cf908",
   "metadata": {},
   "outputs": [],
   "source": [
    "from sklearn.neural_network import MLPRegressor\n",
    "perceptronmodel = MLPRegressor(random_state=1, max_iter=500).fit(X_train, y_train)\n",
    "#perceptronmodel.score(X_train, y_train)\n",
    "#perceptronmodel.predict(X_test[:2])\n",
    "#regr.score(X_test, y_test)"
   ]
  },
  {
   "cell_type": "code",
   "execution_count": 249,
   "id": "70bb37dc",
   "metadata": {},
   "outputs": [],
   "source": [
    "Xtrain = StandardScaler().fit_transform(X_train) #Each feature of equal importance\n",
    "Xtrain = MinMaxScaler().fit_transform(X_train) #scale all features to given range (default appears to be 0 to 1)"
   ]
  },
  {
   "cell_type": "code",
   "execution_count": 250,
   "id": "57d3ac3d",
   "metadata": {},
   "outputs": [],
   "source": [
    "perceppred = perceptronmodel.predict(X_test)"
   ]
  },
  {
   "cell_type": "code",
   "execution_count": 79,
   "id": "c4ec36d4",
   "metadata": {},
   "outputs": [
    {
     "data": {
      "text/plain": [
       "0.1571260627609482"
      ]
     },
     "execution_count": 79,
     "metadata": {},
     "output_type": "execute_result"
    }
   ],
   "source": [
    "perceptronmodel.score(X_test, Y_test)"
   ]
  },
  {
   "cell_type": "code",
   "execution_count": 437,
   "id": "3ffe34ef",
   "metadata": {},
   "outputs": [
    {
     "data": {
      "text/plain": [
       "3134041.164885473"
      ]
     },
     "execution_count": 437,
     "metadata": {},
     "output_type": "execute_result"
    }
   ],
   "source": [
    "metrics.median_absolute_error(perceppred, Y_test)\n",
    "#metrics.mean_squared_error(perceppred, Y_test)"
   ]
  },
  {
   "cell_type": "markdown",
   "id": "0821a0f2",
   "metadata": {},
   "source": [
    "### Stochastic Gradient Descent Regressor"
   ]
  },
  {
   "cell_type": "markdown",
   "id": "f6e445f3",
   "metadata": {},
   "source": [
    "The stochastic gradient descent (SGD) regressor did not perform very well. "
   ]
  },
  {
   "cell_type": "code",
   "execution_count": 450,
   "id": "c1ab4556",
   "metadata": {},
   "outputs": [
    {
     "data": {
      "text/html": [
       "<style>#sk-container-id-10 {color: black;background-color: white;}#sk-container-id-10 pre{padding: 0;}#sk-container-id-10 div.sk-toggleable {background-color: white;}#sk-container-id-10 label.sk-toggleable__label {cursor: pointer;display: block;width: 100%;margin-bottom: 0;padding: 0.3em;box-sizing: border-box;text-align: center;}#sk-container-id-10 label.sk-toggleable__label-arrow:before {content: \"▸\";float: left;margin-right: 0.25em;color: #696969;}#sk-container-id-10 label.sk-toggleable__label-arrow:hover:before {color: black;}#sk-container-id-10 div.sk-estimator:hover label.sk-toggleable__label-arrow:before {color: black;}#sk-container-id-10 div.sk-toggleable__content {max-height: 0;max-width: 0;overflow: hidden;text-align: left;background-color: #f0f8ff;}#sk-container-id-10 div.sk-toggleable__content pre {margin: 0.2em;color: black;border-radius: 0.25em;background-color: #f0f8ff;}#sk-container-id-10 input.sk-toggleable__control:checked~div.sk-toggleable__content {max-height: 200px;max-width: 100%;overflow: auto;}#sk-container-id-10 input.sk-toggleable__control:checked~label.sk-toggleable__label-arrow:before {content: \"▾\";}#sk-container-id-10 div.sk-estimator input.sk-toggleable__control:checked~label.sk-toggleable__label {background-color: #d4ebff;}#sk-container-id-10 div.sk-label input.sk-toggleable__control:checked~label.sk-toggleable__label {background-color: #d4ebff;}#sk-container-id-10 input.sk-hidden--visually {border: 0;clip: rect(1px 1px 1px 1px);clip: rect(1px, 1px, 1px, 1px);height: 1px;margin: -1px;overflow: hidden;padding: 0;position: absolute;width: 1px;}#sk-container-id-10 div.sk-estimator {font-family: monospace;background-color: #f0f8ff;border: 1px dotted black;border-radius: 0.25em;box-sizing: border-box;margin-bottom: 0.5em;}#sk-container-id-10 div.sk-estimator:hover {background-color: #d4ebff;}#sk-container-id-10 div.sk-parallel-item::after {content: \"\";width: 100%;border-bottom: 1px solid gray;flex-grow: 1;}#sk-container-id-10 div.sk-label:hover label.sk-toggleable__label {background-color: #d4ebff;}#sk-container-id-10 div.sk-serial::before {content: \"\";position: absolute;border-left: 1px solid gray;box-sizing: border-box;top: 0;bottom: 0;left: 50%;z-index: 0;}#sk-container-id-10 div.sk-serial {display: flex;flex-direction: column;align-items: center;background-color: white;padding-right: 0.2em;padding-left: 0.2em;position: relative;}#sk-container-id-10 div.sk-item {position: relative;z-index: 1;}#sk-container-id-10 div.sk-parallel {display: flex;align-items: stretch;justify-content: center;background-color: white;position: relative;}#sk-container-id-10 div.sk-item::before, #sk-container-id-10 div.sk-parallel-item::before {content: \"\";position: absolute;border-left: 1px solid gray;box-sizing: border-box;top: 0;bottom: 0;left: 50%;z-index: -1;}#sk-container-id-10 div.sk-parallel-item {display: flex;flex-direction: column;z-index: 1;position: relative;background-color: white;}#sk-container-id-10 div.sk-parallel-item:first-child::after {align-self: flex-end;width: 50%;}#sk-container-id-10 div.sk-parallel-item:last-child::after {align-self: flex-start;width: 50%;}#sk-container-id-10 div.sk-parallel-item:only-child::after {width: 0;}#sk-container-id-10 div.sk-dashed-wrapped {border: 1px dashed gray;margin: 0 0.4em 0.5em 0.4em;box-sizing: border-box;padding-bottom: 0.4em;background-color: white;}#sk-container-id-10 div.sk-label label {font-family: monospace;font-weight: bold;display: inline-block;line-height: 1.2em;}#sk-container-id-10 div.sk-label-container {text-align: center;}#sk-container-id-10 div.sk-container {/* jupyter's `normalize.less` sets `[hidden] { display: none; }` but bootstrap.min.css set `[hidden] { display: none !important; }` so we also need the `!important` here to be able to override the default hidden behavior on the sphinx rendered scikit-learn.org. See: https://github.com/scikit-learn/scikit-learn/issues/21755 */display: inline-block !important;position: relative;}#sk-container-id-10 div.sk-text-repr-fallback {display: none;}</style><div id=\"sk-container-id-10\" class=\"sk-top-container\"><div class=\"sk-text-repr-fallback\"><pre>Pipeline(steps=[(&#x27;standardscaler&#x27;, StandardScaler()),\n",
       "                (&#x27;sgdregressor&#x27;, SGDRegressor(max_iter=100))])</pre><b>In a Jupyter environment, please rerun this cell to show the HTML representation or trust the notebook. <br />On GitHub, the HTML representation is unable to render, please try loading this page with nbviewer.org.</b></div><div class=\"sk-container\" hidden><div class=\"sk-item sk-dashed-wrapped\"><div class=\"sk-label-container\"><div class=\"sk-label sk-toggleable\"><input class=\"sk-toggleable__control sk-hidden--visually\" id=\"sk-estimator-id-18\" type=\"checkbox\" ><label for=\"sk-estimator-id-18\" class=\"sk-toggleable__label sk-toggleable__label-arrow\">Pipeline</label><div class=\"sk-toggleable__content\"><pre>Pipeline(steps=[(&#x27;standardscaler&#x27;, StandardScaler()),\n",
       "                (&#x27;sgdregressor&#x27;, SGDRegressor(max_iter=100))])</pre></div></div></div><div class=\"sk-serial\"><div class=\"sk-item\"><div class=\"sk-estimator sk-toggleable\"><input class=\"sk-toggleable__control sk-hidden--visually\" id=\"sk-estimator-id-19\" type=\"checkbox\" ><label for=\"sk-estimator-id-19\" class=\"sk-toggleable__label sk-toggleable__label-arrow\">StandardScaler</label><div class=\"sk-toggleable__content\"><pre>StandardScaler()</pre></div></div></div><div class=\"sk-item\"><div class=\"sk-estimator sk-toggleable\"><input class=\"sk-toggleable__control sk-hidden--visually\" id=\"sk-estimator-id-20\" type=\"checkbox\" ><label for=\"sk-estimator-id-20\" class=\"sk-toggleable__label sk-toggleable__label-arrow\">SGDRegressor</label><div class=\"sk-toggleable__content\"><pre>SGDRegressor(max_iter=100)</pre></div></div></div></div></div></div></div>"
      ],
      "text/plain": [
       "Pipeline(steps=[('standardscaler', StandardScaler()),\n",
       "                ('sgdregressor', SGDRegressor(max_iter=100))])"
      ]
     },
     "execution_count": 450,
     "metadata": {},
     "output_type": "execute_result"
    }
   ],
   "source": [
    "from sklearn.linear_model import SGDRegressor\n",
    "from sklearn.pipeline import make_pipeline #used for scaling the input, as recommended on the scikitlearn website\n",
    "\n",
    "# Always scale the input. The most convenient way is to use a pipeline.\n",
    "reg = make_pipeline(StandardScaler(), SGDRegressor(max_iter=100, tol=1e-3))\n",
    "reg.fit(X_train, Y_train.ravel())"
   ]
  },
  {
   "cell_type": "code",
   "execution_count": 451,
   "id": "f9a92aeb",
   "metadata": {},
   "outputs": [
    {
     "data": {
      "text/plain": [
       "0.09194883732826298"
      ]
     },
     "execution_count": 451,
     "metadata": {},
     "output_type": "execute_result"
    }
   ],
   "source": [
    "#R2 score of regressor \n",
    "reg.score(X_train, Y_train.ravel())"
   ]
  },
  {
   "cell_type": "code",
   "execution_count": 452,
   "id": "a7cd8093",
   "metadata": {},
   "outputs": [],
   "source": [
    "sgdpred = reg.predict(X_train)"
   ]
  },
  {
   "cell_type": "code",
   "execution_count": 459,
   "id": "cdf4aeb6",
   "metadata": {},
   "outputs": [
    {
     "name": "stdout",
     "output_type": "stream",
     "text": [
      "Median Absolute Error: 7465638.783754812\n"
     ]
    }
   ],
   "source": [
    "print('Median Absolute Error: ' + str(metrics.median_absolute_error(sgdpred, Y_train)))"
   ]
  },
  {
   "cell_type": "markdown",
   "id": "27f05e52",
   "metadata": {},
   "source": [
    "### Support Vector Machine "
   ]
  },
  {
   "cell_type": "markdown",
   "id": "dc118c59",
   "metadata": {},
   "source": [
    "Support vector machines are another popular model that are said to perform on the caliber of neural nets, so I decided to give them a try. While SVM performed better than some of the other models I tried, the decision tree model still yielded better results. "
   ]
  },
  {
   "cell_type": "code",
   "execution_count": 58,
   "id": "bfe75c3d",
   "metadata": {},
   "outputs": [],
   "source": [
    "from sklearn import svm"
   ]
  },
  {
   "cell_type": "code",
   "execution_count": 446,
   "id": "bb22f318",
   "metadata": {},
   "outputs": [],
   "source": [
    "r = make_pipeline(StandardScaler(), svm.SVR()) #scaling \n",
    "svmmodel = r.fit(X_train, y_train)"
   ]
  },
  {
   "cell_type": "code",
   "execution_count": 447,
   "id": "edb34ebd",
   "metadata": {},
   "outputs": [],
   "source": [
    "svmpred=svmmodel.predict(X_test)"
   ]
  },
  {
   "cell_type": "markdown",
   "id": "d3bcaf5e",
   "metadata": {},
   "source": [
    "The R2 score of the SVM is not very high."
   ]
  },
  {
   "cell_type": "code",
   "execution_count": 448,
   "id": "de7bc081",
   "metadata": {},
   "outputs": [
    {
     "name": "stdout",
     "output_type": "stream",
     "text": [
      "-0.037496450818946814\n"
     ]
    }
   ],
   "source": [
    "print(svmmodel.score(X_test,Y_test))"
   ]
  },
  {
   "cell_type": "code",
   "execution_count": 449,
   "id": "e84481c8",
   "metadata": {},
   "outputs": [
    {
     "name": "stdout",
     "output_type": "stream",
     "text": [
      "615257.3390554702\n"
     ]
    }
   ],
   "source": [
    "print(metrics.median_absolute_error(svmpred, Y_test))"
   ]
  },
  {
   "cell_type": "markdown",
   "id": "b0589965",
   "metadata": {},
   "source": [
    "## Overall Results "
   ]
  },
  {
   "cell_type": "markdown",
   "id": "1af963fa",
   "metadata": {},
   "source": [
    "Here is a table summarizing the results of the different models used. The classic linear regression model did not perform well (as suggested by the heat maps of the correlation matrix) while the decision tree regressor outperformed several ensemble methods. Bagging appeared to slightly improve the R2 and MSE scores, but not significantly.\n",
    "<br>\n",
    "\n",
    "| Model | MSE | R2 Score | \n",
    "| --- | --- | --- |\n",
    "| Decision Tree + Bagging | 98865 | 0.9078 |\n",
    "| Decision Tree | 99106 | 0.8858 |\n",
    "| Voting | 324999 | 0.5479 |\n",
    "| Nearest Neighbors | 350729 | 1 |\n",
    "| Support Vector Machine | 615257 | -0.03750 |\n",
    "| Stochastic Gradient Descent | 7465638 | 0.09195 |\n",
    "| Linear Regression | 7585091 | 0.07849 |\n",
    "| adaBoost | 9719687 | 0.7807 |"
   ]
  }
 ],
 "metadata": {
  "kernelspec": {
   "display_name": "Python 3 (ipykernel)",
   "language": "python",
   "name": "python3"
  },
  "language_info": {
   "codemirror_mode": {
    "name": "ipython",
    "version": 3
   },
   "file_extension": ".py",
   "mimetype": "text/x-python",
   "name": "python",
   "nbconvert_exporter": "python",
   "pygments_lexer": "ipython3",
   "version": "3.8.5"
  }
 },
 "nbformat": 4,
 "nbformat_minor": 5
}
