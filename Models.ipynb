{
 "cells": [
  {
   "cell_type": "markdown",
   "id": "22ba4851",
   "metadata": {},
   "source": [
    "# Models\n",
    "\n",
    "In this notebook, we will be using a decision tree to predict Medicaid spending on a specific drug given the brand, manufacturer, and generic names as well as data from the previous year. In particular, we will use 2019 data to predict spending in 2020, using the other data for training. "
   ]
  },
  {
   "cell_type": "code",
   "execution_count": 31,
   "id": "9b88133e",
   "metadata": {},
   "outputs": [],
   "source": [
    "import pandas as pd\n",
    "import numpy as np\n",
    "import matplotlib.pyplot as plt\n",
    "import scipy \n",
    "\n",
    "from sklearn.preprocessing import MinMaxScaler, StandardScaler\n",
    "\n",
    "#Models Used \n",
    "from sklearn import tree\n",
    "from sklearn import svm\n",
    "from sklearn.ensemble import BaggingRegressor\n",
    "from sklearn.ensemble import AdaBoostRegressor\n",
    "from sklearn.ensemble import VotingRegressor\n",
    "from sklearn.neighbors import KNeighborsRegressor\n",
    "from sklearn import linear_model\n",
    "from sklearn.linear_model import SGDRegressor\n",
    "\n",
    "from sklearn.pipeline import make_pipeline #used for scaling the input\n",
    "\n",
    "from sklearn import metrics"
   ]
  },
  {
   "cell_type": "markdown",
   "id": "97073d5d",
   "metadata": {},
   "source": [
    "## Setup"
   ]
  },
  {
   "cell_type": "markdown",
   "id": "c66b8154",
   "metadata": {},
   "source": [
    "We first load our feature matrices and labels. "
   ]
  },
  {
   "cell_type": "code",
   "execution_count": 2,
   "id": "8ce20044",
   "metadata": {},
   "outputs": [
    {
     "data": {
      "text/html": [
       "<div>\n",
       "<style scoped>\n",
       "    .dataframe tbody tr th:only-of-type {\n",
       "        vertical-align: middle;\n",
       "    }\n",
       "\n",
       "    .dataframe tbody tr th {\n",
       "        vertical-align: top;\n",
       "    }\n",
       "\n",
       "    .dataframe thead th {\n",
       "        text-align: right;\n",
       "    }\n",
       "</style>\n",
       "<table border=\"1\" class=\"dataframe\">\n",
       "  <thead>\n",
       "    <tr style=\"text-align: right;\">\n",
       "      <th></th>\n",
       "      <th>Brnd_Name</th>\n",
       "      <th>Gnrc_Name</th>\n",
       "      <th>Mftr_Name</th>\n",
       "      <th>Tot_Dsg_Unts</th>\n",
       "      <th>Tot_Clms</th>\n",
       "      <th>Avg_Spnd_Per_Dsg_Unt_Wghtd</th>\n",
       "      <th>Avg_Spnd_Per_Clm</th>\n",
       "    </tr>\n",
       "  </thead>\n",
       "  <tbody>\n",
       "    <tr>\n",
       "      <th>0</th>\n",
       "      <td>0</td>\n",
       "      <td>0</td>\n",
       "      <td>0</td>\n",
       "      <td>2426.26</td>\n",
       "      <td>1189</td>\n",
       "      <td>15.28</td>\n",
       "      <td>29.03</td>\n",
       "    </tr>\n",
       "    <tr>\n",
       "      <th>1</th>\n",
       "      <td>0</td>\n",
       "      <td>0</td>\n",
       "      <td>1</td>\n",
       "      <td>2426.26</td>\n",
       "      <td>1189</td>\n",
       "      <td>15.28</td>\n",
       "      <td>29.03</td>\n",
       "    </tr>\n",
       "    <tr>\n",
       "      <th>2</th>\n",
       "      <td>1</td>\n",
       "      <td>1</td>\n",
       "      <td>0</td>\n",
       "      <td>1613893.00</td>\n",
       "      <td>27596</td>\n",
       "      <td>4.56</td>\n",
       "      <td>266.73</td>\n",
       "    </tr>\n",
       "    <tr>\n",
       "      <th>3</th>\n",
       "      <td>1</td>\n",
       "      <td>1</td>\n",
       "      <td>2</td>\n",
       "      <td>504740.00</td>\n",
       "      <td>8520</td>\n",
       "      <td>4.51</td>\n",
       "      <td>267.43</td>\n",
       "    </tr>\n",
       "    <tr>\n",
       "      <th>4</th>\n",
       "      <td>1</td>\n",
       "      <td>1</td>\n",
       "      <td>3</td>\n",
       "      <td>636555.00</td>\n",
       "      <td>10946</td>\n",
       "      <td>4.53</td>\n",
       "      <td>263.63</td>\n",
       "    </tr>\n",
       "    <tr>\n",
       "      <th>...</th>\n",
       "      <td>...</td>\n",
       "      <td>...</td>\n",
       "      <td>...</td>\n",
       "      <td>...</td>\n",
       "      <td>...</td>\n",
       "      <td>...</td>\n",
       "      <td>...</td>\n",
       "    </tr>\n",
       "    <tr>\n",
       "      <th>25258</th>\n",
       "      <td>2550</td>\n",
       "      <td>1165</td>\n",
       "      <td>64</td>\n",
       "      <td>98239.00</td>\n",
       "      <td>2639</td>\n",
       "      <td>22.26</td>\n",
       "      <td>836.75</td>\n",
       "    </tr>\n",
       "    <tr>\n",
       "      <th>25259</th>\n",
       "      <td>2551</td>\n",
       "      <td>1165</td>\n",
       "      <td>0</td>\n",
       "      <td>345316.55</td>\n",
       "      <td>9343</td>\n",
       "      <td>22.88</td>\n",
       "      <td>719.38</td>\n",
       "    </tr>\n",
       "    <tr>\n",
       "      <th>25260</th>\n",
       "      <td>2551</td>\n",
       "      <td>1165</td>\n",
       "      <td>501</td>\n",
       "      <td>345316.55</td>\n",
       "      <td>9343</td>\n",
       "      <td>22.88</td>\n",
       "      <td>719.38</td>\n",
       "    </tr>\n",
       "    <tr>\n",
       "      <th>25261</th>\n",
       "      <td>2552</td>\n",
       "      <td>1664</td>\n",
       "      <td>0</td>\n",
       "      <td>887417.00</td>\n",
       "      <td>9362</td>\n",
       "      <td>105.69</td>\n",
       "      <td>9027.92</td>\n",
       "    </tr>\n",
       "    <tr>\n",
       "      <th>25262</th>\n",
       "      <td>2552</td>\n",
       "      <td>1664</td>\n",
       "      <td>274</td>\n",
       "      <td>707741.00</td>\n",
       "      <td>6218</td>\n",
       "      <td>79.38</td>\n",
       "      <td>9035.39</td>\n",
       "    </tr>\n",
       "  </tbody>\n",
       "</table>\n",
       "<p>25263 rows × 7 columns</p>\n",
       "</div>"
      ],
      "text/plain": [
       "       Brnd_Name  Gnrc_Name  Mftr_Name  Tot_Dsg_Unts  Tot_Clms  \\\n",
       "0              0          0          0       2426.26      1189   \n",
       "1              0          0          1       2426.26      1189   \n",
       "2              1          1          0    1613893.00     27596   \n",
       "3              1          1          2     504740.00      8520   \n",
       "4              1          1          3     636555.00     10946   \n",
       "...          ...        ...        ...           ...       ...   \n",
       "25258       2550       1165         64      98239.00      2639   \n",
       "25259       2551       1165          0     345316.55      9343   \n",
       "25260       2551       1165        501     345316.55      9343   \n",
       "25261       2552       1664          0     887417.00      9362   \n",
       "25262       2552       1664        274     707741.00      6218   \n",
       "\n",
       "       Avg_Spnd_Per_Dsg_Unt_Wghtd  Avg_Spnd_Per_Clm  \n",
       "0                           15.28             29.03  \n",
       "1                           15.28             29.03  \n",
       "2                            4.56            266.73  \n",
       "3                            4.51            267.43  \n",
       "4                            4.53            263.63  \n",
       "...                           ...               ...  \n",
       "25258                       22.26            836.75  \n",
       "25259                       22.88            719.38  \n",
       "25260                       22.88            719.38  \n",
       "25261                      105.69           9027.92  \n",
       "25262                       79.38           9035.39  \n",
       "\n",
       "[25263 rows x 7 columns]"
      ]
     },
     "execution_count": 2,
     "metadata": {},
     "output_type": "execute_result"
    }
   ],
   "source": [
    "#training feature matrix \n",
    "X = pd.read_csv('X.csv')\n",
    "X"
   ]
  },
  {
   "cell_type": "code",
   "execution_count": 3,
   "id": "3109e351",
   "metadata": {},
   "outputs": [
    {
     "data": {
      "text/html": [
       "<div>\n",
       "<style scoped>\n",
       "    .dataframe tbody tr th:only-of-type {\n",
       "        vertical-align: middle;\n",
       "    }\n",
       "\n",
       "    .dataframe tbody tr th {\n",
       "        vertical-align: top;\n",
       "    }\n",
       "\n",
       "    .dataframe thead th {\n",
       "        text-align: right;\n",
       "    }\n",
       "</style>\n",
       "<table border=\"1\" class=\"dataframe\">\n",
       "  <thead>\n",
       "    <tr style=\"text-align: right;\">\n",
       "      <th></th>\n",
       "      <th>0</th>\n",
       "    </tr>\n",
       "  </thead>\n",
       "  <tbody>\n",
       "    <tr>\n",
       "      <th>0</th>\n",
       "      <td>34520.89</td>\n",
       "    </tr>\n",
       "    <tr>\n",
       "      <th>1</th>\n",
       "      <td>34520.89</td>\n",
       "    </tr>\n",
       "    <tr>\n",
       "      <th>2</th>\n",
       "      <td>7360772.93</td>\n",
       "    </tr>\n",
       "    <tr>\n",
       "      <th>3</th>\n",
       "      <td>2278494.02</td>\n",
       "    </tr>\n",
       "    <tr>\n",
       "      <th>4</th>\n",
       "      <td>2885686.73</td>\n",
       "    </tr>\n",
       "    <tr>\n",
       "      <th>...</th>\n",
       "      <td>...</td>\n",
       "    </tr>\n",
       "    <tr>\n",
       "      <th>25258</th>\n",
       "      <td>2208171.01</td>\n",
       "    </tr>\n",
       "    <tr>\n",
       "      <th>25259</th>\n",
       "      <td>6721211.74</td>\n",
       "    </tr>\n",
       "    <tr>\n",
       "      <th>25260</th>\n",
       "      <td>6721211.74</td>\n",
       "    </tr>\n",
       "    <tr>\n",
       "      <th>25261</th>\n",
       "      <td>84519375.17</td>\n",
       "    </tr>\n",
       "    <tr>\n",
       "      <th>25262</th>\n",
       "      <td>56182039.35</td>\n",
       "    </tr>\n",
       "  </tbody>\n",
       "</table>\n",
       "<p>25263 rows × 1 columns</p>\n",
       "</div>"
      ],
      "text/plain": [
       "                 0\n",
       "0         34520.89\n",
       "1         34520.89\n",
       "2       7360772.93\n",
       "3       2278494.02\n",
       "4       2885686.73\n",
       "...            ...\n",
       "25258   2208171.01\n",
       "25259   6721211.74\n",
       "25260   6721211.74\n",
       "25261  84519375.17\n",
       "25262  56182039.35\n",
       "\n",
       "[25263 rows x 1 columns]"
      ]
     },
     "execution_count": 3,
     "metadata": {},
     "output_type": "execute_result"
    }
   ],
   "source": [
    "#training labels \n",
    "Y = pd.read_csv('Y.csv')\n",
    "Y"
   ]
  },
  {
   "cell_type": "code",
   "execution_count": 4,
   "id": "65322d4c",
   "metadata": {},
   "outputs": [
    {
     "data": {
      "text/html": [
       "<div>\n",
       "<style scoped>\n",
       "    .dataframe tbody tr th:only-of-type {\n",
       "        vertical-align: middle;\n",
       "    }\n",
       "\n",
       "    .dataframe tbody tr th {\n",
       "        vertical-align: top;\n",
       "    }\n",
       "\n",
       "    .dataframe thead th {\n",
       "        text-align: right;\n",
       "    }\n",
       "</style>\n",
       "<table border=\"1\" class=\"dataframe\">\n",
       "  <thead>\n",
       "    <tr style=\"text-align: right;\">\n",
       "      <th></th>\n",
       "      <th>Brnd_Name</th>\n",
       "      <th>Gnrc_Name</th>\n",
       "      <th>Mftr_Name</th>\n",
       "      <th>Tot_Dsg_Unts</th>\n",
       "      <th>Tot_Clms</th>\n",
       "      <th>Avg_Spnd_Per_Dsg_Unt_Wghtd</th>\n",
       "      <th>Avg_Spnd_Per_Clm</th>\n",
       "    </tr>\n",
       "  </thead>\n",
       "  <tbody>\n",
       "    <tr>\n",
       "      <th>0</th>\n",
       "      <td>0</td>\n",
       "      <td>0</td>\n",
       "      <td>0</td>\n",
       "      <td>275.00</td>\n",
       "      <td>179</td>\n",
       "      <td>1675.15</td>\n",
       "      <td>2025.17</td>\n",
       "    </tr>\n",
       "    <tr>\n",
       "      <th>1</th>\n",
       "      <td>0</td>\n",
       "      <td>0</td>\n",
       "      <td>1</td>\n",
       "      <td>275.00</td>\n",
       "      <td>179</td>\n",
       "      <td>1675.15</td>\n",
       "      <td>2025.17</td>\n",
       "    </tr>\n",
       "    <tr>\n",
       "      <th>2</th>\n",
       "      <td>1</td>\n",
       "      <td>1</td>\n",
       "      <td>0</td>\n",
       "      <td>1622835.00</td>\n",
       "      <td>15999</td>\n",
       "      <td>2.28</td>\n",
       "      <td>152.98</td>\n",
       "    </tr>\n",
       "    <tr>\n",
       "      <th>3</th>\n",
       "      <td>1</td>\n",
       "      <td>1</td>\n",
       "      <td>2</td>\n",
       "      <td>677310.00</td>\n",
       "      <td>5998</td>\n",
       "      <td>2.20</td>\n",
       "      <td>156.32</td>\n",
       "    </tr>\n",
       "    <tr>\n",
       "      <th>4</th>\n",
       "      <td>1</td>\n",
       "      <td>1</td>\n",
       "      <td>3</td>\n",
       "      <td>221192.00</td>\n",
       "      <td>3942</td>\n",
       "      <td>2.48</td>\n",
       "      <td>139.04</td>\n",
       "    </tr>\n",
       "    <tr>\n",
       "      <th>...</th>\n",
       "      <td>...</td>\n",
       "      <td>...</td>\n",
       "      <td>...</td>\n",
       "      <td>...</td>\n",
       "      <td>...</td>\n",
       "      <td>...</td>\n",
       "      <td>...</td>\n",
       "    </tr>\n",
       "    <tr>\n",
       "      <th>8416</th>\n",
       "      <td>2550</td>\n",
       "      <td>1165</td>\n",
       "      <td>64</td>\n",
       "      <td>83418.00</td>\n",
       "      <td>2416</td>\n",
       "      <td>23.20</td>\n",
       "      <td>835.30</td>\n",
       "    </tr>\n",
       "    <tr>\n",
       "      <th>8417</th>\n",
       "      <td>2551</td>\n",
       "      <td>1165</td>\n",
       "      <td>0</td>\n",
       "      <td>295501.76</td>\n",
       "      <td>8879</td>\n",
       "      <td>28.83</td>\n",
       "      <td>761.28</td>\n",
       "    </tr>\n",
       "    <tr>\n",
       "      <th>8418</th>\n",
       "      <td>2551</td>\n",
       "      <td>1165</td>\n",
       "      <td>501</td>\n",
       "      <td>295501.76</td>\n",
       "      <td>8879</td>\n",
       "      <td>28.83</td>\n",
       "      <td>761.28</td>\n",
       "    </tr>\n",
       "    <tr>\n",
       "      <th>8419</th>\n",
       "      <td>2552</td>\n",
       "      <td>1664</td>\n",
       "      <td>0</td>\n",
       "      <td>344872.00</td>\n",
       "      <td>4850</td>\n",
       "      <td>158.55</td>\n",
       "      <td>10231.95</td>\n",
       "    </tr>\n",
       "    <tr>\n",
       "      <th>8420</th>\n",
       "      <td>2552</td>\n",
       "      <td>1664</td>\n",
       "      <td>274</td>\n",
       "      <td>135720.00</td>\n",
       "      <td>1180</td>\n",
       "      <td>84.74</td>\n",
       "      <td>9746.32</td>\n",
       "    </tr>\n",
       "  </tbody>\n",
       "</table>\n",
       "<p>8421 rows × 7 columns</p>\n",
       "</div>"
      ],
      "text/plain": [
       "      Brnd_Name  Gnrc_Name  Mftr_Name  Tot_Dsg_Unts  Tot_Clms  \\\n",
       "0             0          0          0        275.00       179   \n",
       "1             0          0          1        275.00       179   \n",
       "2             1          1          0    1622835.00     15999   \n",
       "3             1          1          2     677310.00      5998   \n",
       "4             1          1          3     221192.00      3942   \n",
       "...         ...        ...        ...           ...       ...   \n",
       "8416       2550       1165         64      83418.00      2416   \n",
       "8417       2551       1165          0     295501.76      8879   \n",
       "8418       2551       1165        501     295501.76      8879   \n",
       "8419       2552       1664          0     344872.00      4850   \n",
       "8420       2552       1664        274     135720.00      1180   \n",
       "\n",
       "      Avg_Spnd_Per_Dsg_Unt_Wghtd  Avg_Spnd_Per_Clm  \n",
       "0                        1675.15           2025.17  \n",
       "1                        1675.15           2025.17  \n",
       "2                           2.28            152.98  \n",
       "3                           2.20            156.32  \n",
       "4                           2.48            139.04  \n",
       "...                          ...               ...  \n",
       "8416                       23.20            835.30  \n",
       "8417                       28.83            761.28  \n",
       "8418                       28.83            761.28  \n",
       "8419                      158.55          10231.95  \n",
       "8420                       84.74           9746.32  \n",
       "\n",
       "[8421 rows x 7 columns]"
      ]
     },
     "execution_count": 4,
     "metadata": {},
     "output_type": "execute_result"
    }
   ],
   "source": [
    "#test feature matrix\n",
    "Xtest = pd.read_csv('Xtest.csv')\n",
    "Xtest"
   ]
  },
  {
   "cell_type": "code",
   "execution_count": 5,
   "id": "66f55a15",
   "metadata": {},
   "outputs": [
    {
     "data": {
      "text/html": [
       "<div>\n",
       "<style scoped>\n",
       "    .dataframe tbody tr th:only-of-type {\n",
       "        vertical-align: middle;\n",
       "    }\n",
       "\n",
       "    .dataframe tbody tr th {\n",
       "        vertical-align: top;\n",
       "    }\n",
       "\n",
       "    .dataframe thead th {\n",
       "        text-align: right;\n",
       "    }\n",
       "</style>\n",
       "<table border=\"1\" class=\"dataframe\">\n",
       "  <thead>\n",
       "    <tr style=\"text-align: right;\">\n",
       "      <th></th>\n",
       "      <th>Tot_Spndng_2020</th>\n",
       "    </tr>\n",
       "  </thead>\n",
       "  <tbody>\n",
       "    <tr>\n",
       "      <th>0</th>\n",
       "      <td>11160.11</td>\n",
       "    </tr>\n",
       "    <tr>\n",
       "      <th>1</th>\n",
       "      <td>11160.11</td>\n",
       "    </tr>\n",
       "    <tr>\n",
       "      <th>2</th>\n",
       "      <td>1668418.74</td>\n",
       "    </tr>\n",
       "    <tr>\n",
       "      <th>3</th>\n",
       "      <td>741734.29</td>\n",
       "    </tr>\n",
       "    <tr>\n",
       "      <th>4</th>\n",
       "      <td>326056.77</td>\n",
       "    </tr>\n",
       "    <tr>\n",
       "      <th>...</th>\n",
       "      <td>...</td>\n",
       "    </tr>\n",
       "    <tr>\n",
       "      <th>8416</th>\n",
       "      <td>1880206.77</td>\n",
       "    </tr>\n",
       "    <tr>\n",
       "      <th>8417</th>\n",
       "      <td>5312667.87</td>\n",
       "    </tr>\n",
       "    <tr>\n",
       "      <th>8418</th>\n",
       "      <td>5312667.87</td>\n",
       "    </tr>\n",
       "    <tr>\n",
       "      <th>8419</th>\n",
       "      <td>34807960.04</td>\n",
       "    </tr>\n",
       "    <tr>\n",
       "      <th>8420</th>\n",
       "      <td>5612603.08</td>\n",
       "    </tr>\n",
       "  </tbody>\n",
       "</table>\n",
       "<p>8421 rows × 1 columns</p>\n",
       "</div>"
      ],
      "text/plain": [
       "      Tot_Spndng_2020\n",
       "0            11160.11\n",
       "1            11160.11\n",
       "2          1668418.74\n",
       "3           741734.29\n",
       "4           326056.77\n",
       "...               ...\n",
       "8416       1880206.77\n",
       "8417       5312667.87\n",
       "8418       5312667.87\n",
       "8419      34807960.04\n",
       "8420       5612603.08\n",
       "\n",
       "[8421 rows x 1 columns]"
      ]
     },
     "execution_count": 5,
     "metadata": {},
     "output_type": "execute_result"
    }
   ],
   "source": [
    "#test labels \n",
    "Ytest = pd.read_csv('Ytest.csv')\n",
    "Ytest"
   ]
  },
  {
   "cell_type": "code",
   "execution_count": 6,
   "id": "6985db0b",
   "metadata": {},
   "outputs": [
    {
     "data": {
      "text/plain": [
       "301058.97"
      ]
     },
     "execution_count": 6,
     "metadata": {},
     "output_type": "execute_result"
    }
   ],
   "source": [
    "np.median(Ytest)"
   ]
  },
  {
   "cell_type": "markdown",
   "id": "87b455d5",
   "metadata": {},
   "source": [
    "Our next step is to convert the dataframes into matrices. Then, we will be ready to train our models."
   ]
  },
  {
   "cell_type": "code",
   "execution_count": 7,
   "id": "05cb09b7",
   "metadata": {
    "scrolled": true
   },
   "outputs": [
    {
     "data": {
      "text/plain": [
       "array([[0.00000e+00, 0.00000e+00, 0.00000e+00, ..., 1.18900e+03,\n",
       "        1.52800e+01, 2.90300e+01],\n",
       "       [0.00000e+00, 0.00000e+00, 1.00000e+00, ..., 1.18900e+03,\n",
       "        1.52800e+01, 2.90300e+01],\n",
       "       [1.00000e+00, 1.00000e+00, 0.00000e+00, ..., 2.75960e+04,\n",
       "        4.56000e+00, 2.66730e+02],\n",
       "       ...,\n",
       "       [2.55100e+03, 1.16500e+03, 5.01000e+02, ..., 9.34300e+03,\n",
       "        2.28800e+01, 7.19380e+02],\n",
       "       [2.55200e+03, 1.66400e+03, 0.00000e+00, ..., 9.36200e+03,\n",
       "        1.05690e+02, 9.02792e+03],\n",
       "       [2.55200e+03, 1.66400e+03, 2.74000e+02, ..., 6.21800e+03,\n",
       "        7.93800e+01, 9.03539e+03]])"
      ]
     },
     "execution_count": 7,
     "metadata": {},
     "output_type": "execute_result"
    }
   ],
   "source": [
    "X_train = X.values\n",
    "Y_train = Y.values\n",
    "X_train"
   ]
  },
  {
   "cell_type": "code",
   "execution_count": 8,
   "id": "c46860fe",
   "metadata": {},
   "outputs": [
    {
     "data": {
      "text/plain": [
       "array([[3.45208900e+04],\n",
       "       [3.45208900e+04],\n",
       "       [7.36077293e+06],\n",
       "       ...,\n",
       "       [6.72121174e+06],\n",
       "       [8.45193752e+07],\n",
       "       [5.61820394e+07]])"
      ]
     },
     "execution_count": 8,
     "metadata": {},
     "output_type": "execute_result"
    }
   ],
   "source": [
    "Y_train"
   ]
  },
  {
   "cell_type": "code",
   "execution_count": 9,
   "id": "e6a37e1a",
   "metadata": {},
   "outputs": [],
   "source": [
    "X_test = Xtest.values\n",
    "Y_test = Ytest.values"
   ]
  },
  {
   "cell_type": "code",
   "execution_count": 10,
   "id": "dc64b147",
   "metadata": {},
   "outputs": [
    {
     "data": {
      "text/plain": [
       "array([[0.000000e+00, 0.000000e+00, 0.000000e+00, ..., 1.790000e+02,\n",
       "        1.675150e+03, 2.025170e+03],\n",
       "       [0.000000e+00, 0.000000e+00, 1.000000e+00, ..., 1.790000e+02,\n",
       "        1.675150e+03, 2.025170e+03],\n",
       "       [1.000000e+00, 1.000000e+00, 0.000000e+00, ..., 1.599900e+04,\n",
       "        2.280000e+00, 1.529800e+02],\n",
       "       ...,\n",
       "       [2.551000e+03, 1.165000e+03, 5.010000e+02, ..., 8.879000e+03,\n",
       "        2.883000e+01, 7.612800e+02],\n",
       "       [2.552000e+03, 1.664000e+03, 0.000000e+00, ..., 4.850000e+03,\n",
       "        1.585500e+02, 1.023195e+04],\n",
       "       [2.552000e+03, 1.664000e+03, 2.740000e+02, ..., 1.180000e+03,\n",
       "        8.474000e+01, 9.746320e+03]])"
      ]
     },
     "execution_count": 10,
     "metadata": {},
     "output_type": "execute_result"
    }
   ],
   "source": [
    "X_test"
   ]
  },
  {
   "cell_type": "code",
   "execution_count": 11,
   "id": "9e6a1e06",
   "metadata": {},
   "outputs": [
    {
     "data": {
      "text/plain": [
       "array([[1.11601100e+04],\n",
       "       [1.11601100e+04],\n",
       "       [1.66841874e+06],\n",
       "       ...,\n",
       "       [5.31266787e+06],\n",
       "       [3.48079600e+07],\n",
       "       [5.61260308e+06]])"
      ]
     },
     "execution_count": 11,
     "metadata": {},
     "output_type": "execute_result"
    }
   ],
   "source": [
    "Y_test"
   ]
  },
  {
   "cell_type": "markdown",
   "id": "ee896ce7",
   "metadata": {},
   "source": [
    "## Decision Tree: Best Model "
   ]
  },
  {
   "cell_type": "markdown",
   "id": "ac73f096",
   "metadata": {},
   "source": [
    "The decision tree regressor outperformed other models by a lot. "
   ]
  },
  {
   "cell_type": "code",
   "execution_count": 12,
   "id": "ca4a7a9c",
   "metadata": {},
   "outputs": [],
   "source": [
    "tr = tree.DecisionTreeRegressor()\n",
    "treemodel = tr.fit(X_train, Y_train)"
   ]
  },
  {
   "cell_type": "code",
   "execution_count": 13,
   "id": "f0219d45",
   "metadata": {},
   "outputs": [
    {
     "data": {
      "text/plain": [
       "1.0"
      ]
     },
     "execution_count": 13,
     "metadata": {},
     "output_type": "execute_result"
    }
   ],
   "source": [
    "tr.score(X_train, Y_train)"
   ]
  },
  {
   "cell_type": "code",
   "execution_count": 14,
   "id": "7645a3b2",
   "metadata": {},
   "outputs": [],
   "source": [
    "preds = treemodel.predict(X_test)"
   ]
  },
  {
   "cell_type": "code",
   "execution_count": 15,
   "id": "28c475a7",
   "metadata": {},
   "outputs": [
    {
     "name": "stdout",
     "output_type": "stream",
     "text": [
      "Median absolute error: 97871.15999999997\n",
      "R2 score: 0.871414811515867\n",
      "Median Medicare spending:301058.97\n"
     ]
    }
   ],
   "source": [
    "metrics.mean_absolute_error(preds, Y_test)\n",
    "print('Median absolute error: ' + str(metrics.median_absolute_error(preds, Y_test)))\n",
    "print('R2 score: ' + str(metrics.r2_score(preds, Y_test)))\n",
    "print('Median Medicare spending:' + str(np.median(Y_test)))"
   ]
  },
  {
   "cell_type": "markdown",
   "id": "034f2afe",
   "metadata": {},
   "source": [
    "To visualize some results, we can look at the first 10 entries in our test feature matrix. Below is some information about these entries. \n",
    "\n",
    "**Entry 1**: Brand name: 8hr Arthristic Pain, generic name: Acetaminophen, manufacturer name: Overall\n",
    "<br>\n",
    "\n",
    "**Entry 2**: Brand name: 8hr Arthristic Pain, generic name: Acetaminophen, manufacturer name: Topco\n",
    "<br>\n",
    "\n",
    "**Entry 3**: Brand name: A & D, generic name: Vitamins A and D, manufacturer name: Overall\n",
    "<br>\n",
    "\n",
    "**Entry 4**: Brand name: A & D, generic name: Vitamins A and D, manufacturer name: Schering-Plough\n",
    "<br>\n",
    "\n",
    "**Entry 5**: Brand name: A And D, generic name: Vitamins A and D/ White Pet/ Lanolin, manufacturer name: Overall\n",
    "<br>\n",
    "\n",
    "**Entry 6**: Brand name: A And D, generic name: Vitamins A and D/ White Pet/ Lanolin, manufacturer name: Bayer Healthcare\n",
    "<br>\n",
    "\n",
    "**Entry 7**: Brand name: A and D, generic name: Diaper Rash Dimethic/Zinc Ox/Vits A,D/Aloe, manufacturer name: Overall\n",
    "<br>\n",
    "\n",
    "**Entry 8**: Brand name: A and D, generic name: Diaper Rash Dimethic/Zinc Ox/Vits A,D/Aloe, manufacturer name: Bayer Healthcare\n",
    "<br>\n",
    "\n",
    "**Entry 9**: Brand name: A-Hydrocort, generic name:\tHydrocortisone Sodium Succinate, manufacturer: Overall\n",
    "<br>\n",
    "\n",
    "**Entry 10**: Brand name: A-Hydrocort, generic name: Hydrocortisone Sod Succinate, manufacturer name: Hospira/Pfizer"
   ]
  },
  {
   "cell_type": "code",
   "execution_count": 16,
   "id": "9f750d0d",
   "metadata": {},
   "outputs": [],
   "source": [
    "pred_df = pd.DataFrame(preds)"
   ]
  },
  {
   "cell_type": "code",
   "execution_count": 17,
   "id": "e8888670",
   "metadata": {},
   "outputs": [
    {
     "data": {
      "text/html": [
       "<div>\n",
       "<style scoped>\n",
       "    .dataframe tbody tr th:only-of-type {\n",
       "        vertical-align: middle;\n",
       "    }\n",
       "\n",
       "    .dataframe tbody tr th {\n",
       "        vertical-align: top;\n",
       "    }\n",
       "\n",
       "    .dataframe thead th {\n",
       "        text-align: right;\n",
       "    }\n",
       "</style>\n",
       "<table border=\"1\" class=\"dataframe\">\n",
       "  <thead>\n",
       "    <tr style=\"text-align: right;\">\n",
       "      <th></th>\n",
       "      <th>0</th>\n",
       "    </tr>\n",
       "  </thead>\n",
       "  <tbody>\n",
       "    <tr>\n",
       "      <th>0</th>\n",
       "      <td>335417.23</td>\n",
       "    </tr>\n",
       "    <tr>\n",
       "      <th>1</th>\n",
       "      <td>335417.23</td>\n",
       "    </tr>\n",
       "    <tr>\n",
       "      <th>2</th>\n",
       "      <td>2507666.58</td>\n",
       "    </tr>\n",
       "    <tr>\n",
       "      <th>3</th>\n",
       "      <td>936906.69</td>\n",
       "    </tr>\n",
       "    <tr>\n",
       "      <th>4</th>\n",
       "      <td>569109.18</td>\n",
       "    </tr>\n",
       "    <tr>\n",
       "      <th>5</th>\n",
       "      <td>127316.06</td>\n",
       "    </tr>\n",
       "    <tr>\n",
       "      <th>6</th>\n",
       "      <td>452010.80</td>\n",
       "    </tr>\n",
       "    <tr>\n",
       "      <th>7</th>\n",
       "      <td>4137687.93</td>\n",
       "    </tr>\n",
       "    <tr>\n",
       "      <th>8</th>\n",
       "      <td>302434.84</td>\n",
       "    </tr>\n",
       "    <tr>\n",
       "      <th>9</th>\n",
       "      <td>602800.01</td>\n",
       "    </tr>\n",
       "  </tbody>\n",
       "</table>\n",
       "</div>"
      ],
      "text/plain": [
       "            0\n",
       "0   335417.23\n",
       "1   335417.23\n",
       "2  2507666.58\n",
       "3   936906.69\n",
       "4   569109.18\n",
       "5   127316.06\n",
       "6   452010.80\n",
       "7  4137687.93\n",
       "8   302434.84\n",
       "9   602800.01"
      ]
     },
     "execution_count": 17,
     "metadata": {},
     "output_type": "execute_result"
    }
   ],
   "source": [
    "pred10_df = pred_df.iloc[:10, :]\n",
    "pred10_df"
   ]
  },
  {
   "cell_type": "code",
   "execution_count": 18,
   "id": "52dccafb",
   "metadata": {},
   "outputs": [
    {
     "data": {
      "text/html": [
       "<div>\n",
       "<style scoped>\n",
       "    .dataframe tbody tr th:only-of-type {\n",
       "        vertical-align: middle;\n",
       "    }\n",
       "\n",
       "    .dataframe tbody tr th {\n",
       "        vertical-align: top;\n",
       "    }\n",
       "\n",
       "    .dataframe thead th {\n",
       "        text-align: right;\n",
       "    }\n",
       "</style>\n",
       "<table border=\"1\" class=\"dataframe\">\n",
       "  <thead>\n",
       "    <tr style=\"text-align: right;\">\n",
       "      <th></th>\n",
       "      <th>Tot_Spndng_2020</th>\n",
       "    </tr>\n",
       "  </thead>\n",
       "  <tbody>\n",
       "    <tr>\n",
       "      <th>0</th>\n",
       "      <td>11160.11</td>\n",
       "    </tr>\n",
       "    <tr>\n",
       "      <th>1</th>\n",
       "      <td>11160.11</td>\n",
       "    </tr>\n",
       "    <tr>\n",
       "      <th>2</th>\n",
       "      <td>1668418.74</td>\n",
       "    </tr>\n",
       "    <tr>\n",
       "      <th>3</th>\n",
       "      <td>741734.29</td>\n",
       "    </tr>\n",
       "    <tr>\n",
       "      <th>4</th>\n",
       "      <td>326056.77</td>\n",
       "    </tr>\n",
       "    <tr>\n",
       "      <th>5</th>\n",
       "      <td>19480.06</td>\n",
       "    </tr>\n",
       "    <tr>\n",
       "      <th>6</th>\n",
       "      <td>256538.90</td>\n",
       "    </tr>\n",
       "    <tr>\n",
       "      <th>7</th>\n",
       "      <td>3063316.88</td>\n",
       "    </tr>\n",
       "    <tr>\n",
       "      <th>8</th>\n",
       "      <td>55050.20</td>\n",
       "    </tr>\n",
       "    <tr>\n",
       "      <th>9</th>\n",
       "      <td>775718.23</td>\n",
       "    </tr>\n",
       "  </tbody>\n",
       "</table>\n",
       "</div>"
      ],
      "text/plain": [
       "   Tot_Spndng_2020\n",
       "0         11160.11\n",
       "1         11160.11\n",
       "2       1668418.74\n",
       "3        741734.29\n",
       "4        326056.77\n",
       "5         19480.06\n",
       "6        256538.90\n",
       "7       3063316.88\n",
       "8         55050.20\n",
       "9        775718.23"
      ]
     },
     "execution_count": 18,
     "metadata": {},
     "output_type": "execute_result"
    }
   ],
   "source": [
    "actual10_df = Ytest.iloc[: 10, :]\n",
    "actual10_df"
   ]
  },
  {
   "cell_type": "code",
   "execution_count": 19,
   "id": "2f518bef",
   "metadata": {},
   "outputs": [
    {
     "data": {
      "text/html": [
       "<div>\n",
       "<style scoped>\n",
       "    .dataframe tbody tr th:only-of-type {\n",
       "        vertical-align: middle;\n",
       "    }\n",
       "\n",
       "    .dataframe tbody tr th {\n",
       "        vertical-align: top;\n",
       "    }\n",
       "\n",
       "    .dataframe thead th {\n",
       "        text-align: right;\n",
       "    }\n",
       "</style>\n",
       "<table border=\"1\" class=\"dataframe\">\n",
       "  <thead>\n",
       "    <tr style=\"text-align: right;\">\n",
       "      <th></th>\n",
       "      <th>Predicted</th>\n",
       "      <th>Actual</th>\n",
       "      <th>index</th>\n",
       "    </tr>\n",
       "  </thead>\n",
       "  <tbody>\n",
       "    <tr>\n",
       "      <th>0</th>\n",
       "      <td>335417.23</td>\n",
       "      <td>11160.11</td>\n",
       "      <td>0</td>\n",
       "    </tr>\n",
       "    <tr>\n",
       "      <th>1</th>\n",
       "      <td>335417.23</td>\n",
       "      <td>11160.11</td>\n",
       "      <td>1</td>\n",
       "    </tr>\n",
       "    <tr>\n",
       "      <th>2</th>\n",
       "      <td>2507666.58</td>\n",
       "      <td>1668418.74</td>\n",
       "      <td>2</td>\n",
       "    </tr>\n",
       "    <tr>\n",
       "      <th>3</th>\n",
       "      <td>936906.69</td>\n",
       "      <td>741734.29</td>\n",
       "      <td>3</td>\n",
       "    </tr>\n",
       "    <tr>\n",
       "      <th>4</th>\n",
       "      <td>569109.18</td>\n",
       "      <td>326056.77</td>\n",
       "      <td>4</td>\n",
       "    </tr>\n",
       "    <tr>\n",
       "      <th>5</th>\n",
       "      <td>127316.06</td>\n",
       "      <td>19480.06</td>\n",
       "      <td>5</td>\n",
       "    </tr>\n",
       "    <tr>\n",
       "      <th>6</th>\n",
       "      <td>452010.80</td>\n",
       "      <td>256538.90</td>\n",
       "      <td>6</td>\n",
       "    </tr>\n",
       "    <tr>\n",
       "      <th>7</th>\n",
       "      <td>4137687.93</td>\n",
       "      <td>3063316.88</td>\n",
       "      <td>7</td>\n",
       "    </tr>\n",
       "    <tr>\n",
       "      <th>8</th>\n",
       "      <td>302434.84</td>\n",
       "      <td>55050.20</td>\n",
       "      <td>8</td>\n",
       "    </tr>\n",
       "    <tr>\n",
       "      <th>9</th>\n",
       "      <td>602800.01</td>\n",
       "      <td>775718.23</td>\n",
       "      <td>9</td>\n",
       "    </tr>\n",
       "  </tbody>\n",
       "</table>\n",
       "</div>"
      ],
      "text/plain": [
       "    Predicted      Actual  index\n",
       "0   335417.23    11160.11      0\n",
       "1   335417.23    11160.11      1\n",
       "2  2507666.58  1668418.74      2\n",
       "3   936906.69   741734.29      3\n",
       "4   569109.18   326056.77      4\n",
       "5   127316.06    19480.06      5\n",
       "6   452010.80   256538.90      6\n",
       "7  4137687.93  3063316.88      7\n",
       "8   302434.84    55050.20      8\n",
       "9   602800.01   775718.23      9"
      ]
     },
     "execution_count": 19,
     "metadata": {},
     "output_type": "execute_result"
    }
   ],
   "source": [
    "import seaborn as sns\n",
    "\n",
    "preds = pd.concat([pred10_df, actual10_df], axis=1)\n",
    "preds = preds.rename(columns={0: 'Predicted', 'Tot_Spndng_2020': 'Actual'})\n",
    "preds['index'] = preds.index\n",
    "preds"
   ]
  },
  {
   "cell_type": "code",
   "execution_count": 21,
   "id": "f691231d",
   "metadata": {},
   "outputs": [
    {
     "data": {
      "text/plain": [
       "Text(0, 0.5, 'Medicaid Spending')"
      ]
     },
     "execution_count": 21,
     "metadata": {},
     "output_type": "execute_result"
    },
    {
     "data": {
      "image/png": "[encoded data removed]",
      "text/plain": [
       "<Figure size 640x480 with 1 Axes>"
      ]
     },
     "metadata": {},
     "output_type": "display_data"
    }
   ],
   "source": [
    "preds.plot(x=\"index\", y=[\"Predicted\", \"Actual\"], kind=\"bar\")\n",
    "plt.xlabel('Sample Number')\n",
    "plt.ylabel('Medicaid Spending')"
   ]
  },
  {
   "cell_type": "markdown",
   "id": "73eb6b90",
   "metadata": {},
   "source": [
    "### Ensemble methods: bagging and boosting "
   ]
  },
  {
   "cell_type": "markdown",
   "id": "429bc2b3",
   "metadata": {},
   "source": [
    "As seen by the graph, while most predictions achieve acurracy within half a million dollars, there is room for improvement. So I tried a few ensemble methods. \n",
    "\n",
    "#### Bagging\n",
    "\n",
    "First, I tried bagging. "
   ]
  },
  {
   "cell_type": "code",
   "execution_count": 25,
   "id": "5038338b",
   "metadata": {},
   "outputs": [],
   "source": [
    "y_train = Y_train.ravel()"
   ]
  },
  {
   "cell_type": "code",
   "execution_count": 23,
   "id": "4ce1813d",
   "metadata": {},
   "outputs": [],
   "source": [
    "#bagging = BaggingRegressor(tr, max_samples=0.5, max_features=0.5) #achieved 70% acurracy \n",
    "bagging = BaggingRegressor(tr)"
   ]
  },
  {
   "cell_type": "code",
   "execution_count": 26,
   "id": "bb04a821",
   "metadata": {},
   "outputs": [],
   "source": [
    "bagtree = bagging.fit(X_train, y_train)"
   ]
  },
  {
   "cell_type": "code",
   "execution_count": 27,
   "id": "d34ac18c",
   "metadata": {},
   "outputs": [],
   "source": [
    "bagpred = bagtree.predict(X_test)"
   ]
  },
  {
   "cell_type": "code",
   "execution_count": 28,
   "id": "1363c670",
   "metadata": {},
   "outputs": [
    {
     "name": "stdout",
     "output_type": "stream",
     "text": [
      "Median absolute error: 98657.41000000003\n"
     ]
    }
   ],
   "source": [
    "print('Median absolute error: ' + str(metrics.median_absolute_error(bagpred, Y_test)))"
   ]
  },
  {
   "cell_type": "code",
   "execution_count": 29,
   "id": "7f494c5c",
   "metadata": {},
   "outputs": [
    {
     "name": "stdout",
     "output_type": "stream",
     "text": [
      "0.9940150354951011\n"
     ]
    }
   ],
   "source": [
    "print(bagging.score(X_train, y_train))"
   ]
  },
  {
   "cell_type": "code",
   "execution_count": 30,
   "id": "5bde9e63",
   "metadata": {},
   "outputs": [
    {
     "name": "stdout",
     "output_type": "stream",
     "text": [
      "0.8887957039726153\n"
     ]
    }
   ],
   "source": [
    "print(bagging.score(X_test, Y_test))"
   ]
  },
  {
   "cell_type": "markdown",
   "id": "76e68264",
   "metadata": {},
   "source": [
    "It appears that bagging does not significantly change the accuracy. Changing the parameters of bagging (see commented out code), however, yielded lower results, so I ended up just using the default parameters. "
   ]
  },
  {
   "cell_type": "markdown",
   "id": "35903b80",
   "metadata": {},
   "source": [
    "#### Boosting \n",
    "\n",
    "Next, I tried boosting, but the results were worse. "
   ]
  },
  {
   "cell_type": "code",
   "execution_count": 32,
   "id": "9b573a47",
   "metadata": {},
   "outputs": [],
   "source": [
    "m = AdaBoostRegressor(n_estimators=15)"
   ]
  },
  {
   "cell_type": "code",
   "execution_count": 33,
   "id": "c694ab55",
   "metadata": {},
   "outputs": [],
   "source": [
    "adaboost = m.fit(X_train, y_train)"
   ]
  },
  {
   "cell_type": "code",
   "execution_count": 34,
   "id": "d44af706",
   "metadata": {},
   "outputs": [
    {
     "data": {
      "text/plain": [
       "0.7897355107702098"
      ]
     },
     "execution_count": 34,
     "metadata": {},
     "output_type": "execute_result"
    }
   ],
   "source": [
    "adaboost.score(X_train, y_train)"
   ]
  },
  {
   "cell_type": "code",
   "execution_count": 35,
   "id": "b11d5d71",
   "metadata": {},
   "outputs": [
    {
     "name": "stdout",
     "output_type": "stream",
     "text": [
      "Median absolute error: 8085436.839641658\n"
     ]
    }
   ],
   "source": [
    "adapred = adaboost.predict(X_test)\n",
    "print('Median absolute error: ' + str(metrics.median_absolute_error(adapred, Y_test)))"
   ]
  },
  {
   "cell_type": "markdown",
   "id": "4dda605c",
   "metadata": {},
   "source": [
    "### Ensemble method: majority vote "
   ]
  },
  {
   "cell_type": "markdown",
   "id": "5ba2fda1",
   "metadata": {},
   "source": [
    "I also tried a majority vote regressor, using my top 3 performers (KNN, SVM, and decision tree regressors). It did not perform as well as the decision tree regressor, likely due to the fact that the other two regressors did not perform as well. "
   ]
  },
  {
   "cell_type": "code",
   "execution_count": 478,
   "id": "75334450",
   "metadata": {},
   "outputs": [],
   "source": [
    "# Training classifiers\n",
    "knn = KNeighborsRegressor(n_neighbors=5)\n",
    "votereg = VotingRegressor(estimators=[('gb', treemodel), ('rf', knn), ('lr', svmmodel)])\n",
    "votereg = votereg.fit(X_train, y_train)"
   ]
  },
  {
   "cell_type": "code",
   "execution_count": 479,
   "id": "fe70fd5d",
   "metadata": {},
   "outputs": [
    {
     "name": "stdout",
     "output_type": "stream",
     "text": [
      "R2 score: 0.5479414656818276\n",
      "Median absolute error: 324999.069549565\n"
     ]
    }
   ],
   "source": [
    "votepred = votereg.predict(X_test)\n",
    "print('R2 score: ' + str(votereg.score(X_test, Y_test)))\n",
    "print('Median absolute error: ' + str(metrics.median_absolute_error(votepred, Y_test)))"
   ]
  },
  {
   "cell_type": "markdown",
   "id": "5817a7f4",
   "metadata": {},
   "source": [
    "Below is an illustrative plot with the predicted values for the three models as well as the actual value (shown in magenta)."
   ]
  },
  {
   "cell_type": "code",
   "execution_count": 485,
   "id": "690e7c48",
   "metadata": {},
   "outputs": [
    {
     "data": {
      "image/png": "[encoded data removed]",
      "text/plain": [
       "<Figure size 640x480 with 1 Axes>"
      ]
     },
     "metadata": {},
     "output_type": "display_data"
    }
   ],
   "source": [
    "pred1 = treemodel.predict(X_train)\n",
    "knn.fit(X_train, Y_train)\n",
    "pred2 = knn.predict(X_train)\n",
    "pred3 = svmmodel.predict(X_train)\n",
    "pred4 = votereg.predict(X_train)\n",
    "\n",
    "plt.figure()\n",
    "plt.plot(pred1, \"gd\", label=\"DecisionTreeRegressor\")\n",
    "plt.plot(pred2, \"b^\", label=\"kNNRegressor\")\n",
    "plt.plot(pred3, \"ys\", label=\"SVMRegressor\")\n",
    "plt.plot(pred4, \"r*\", ms=10, label=\"VotingRegressor\")\n",
    "\n",
    "plt.tick_params(axis=\"x\", which=\"both\", bottom=False, top=False, labelbottom=False)\n",
    "plt.ylabel(\"predicted\")\n",
    "plt.xlabel(\"training samples\")\n",
    "plt.legend(loc=\"best\")\n",
    "plt.title(\"Regressor predictions and their average\")\n",
    "\n",
    "plt.show()"
   ]
  },
  {
   "cell_type": "markdown",
   "id": "ea5067e7",
   "metadata": {},
   "source": [
    "We see that in general, the voting regressor was not good for outliers, as it tended to predict all values to be less than 1 million. The actual values of the test data, seen below, appear to show more variability than the predictions from the voting regressor. The decision tree regressor, on the other hand, captured the variability better. "
   ]
  },
  {
   "cell_type": "code",
   "execution_count": 486,
   "id": "6ad8dfcd",
   "metadata": {},
   "outputs": [
    {
     "data": {
      "image/png": "[encoded data removed]",
      "text/plain": [
       "<Figure size 640x480 with 1 Axes>"
      ]
     },
     "metadata": {},
     "output_type": "display_data"
    }
   ],
   "source": [
    "plt.plot(Y_train, \"mX\", label=\"ActualSpending\")\n",
    "plt.show()"
   ]
  },
  {
   "cell_type": "markdown",
   "id": "dd496229",
   "metadata": {},
   "source": [
    "## Other models "
   ]
  },
  {
   "cell_type": "markdown",
   "id": "4f8df2c1",
   "metadata": {},
   "source": [
    "The other models that are standard in the field that I tried were not as successful as the decision tree regressor- not even the Perceptron! "
   ]
  },
  {
   "cell_type": "markdown",
   "id": "f8f92e85",
   "metadata": {},
   "source": [
    "### Nearest Neighbors Regressor "
   ]
  },
  {
   "cell_type": "markdown",
   "id": "5fb3f353",
   "metadata": {},
   "source": [
    "The first regressor I tried was the kNN regressor, which is simple and quick to implement. Usually, the advice is to try the square root of the sample size as the number of neighbors, so I ran kNN using various numbers close to 158. Then, I realized that if I decreased the number of neighbors, the MAE decreased as well, so I ended up testing the model for the full range of neighbors from 1 to 180, achieving 350,728 as the minimum MAE, which is still higher than the decision tree model MAE. Additionally, the $R^2$ scores were much lower. "
   ]
  },
  {
   "cell_type": "code",
   "execution_count": 470,
   "id": "4aa0fe9f",
   "metadata": {},
   "outputs": [
    {
     "name": "stdout",
     "output_type": "stream",
     "text": [
      "     K  Test Score  Train Score            MSE\n",
      "0    1   -0.149832     1.000000  350728.760000\n",
      "1    2   -0.197376     0.939419  382183.520000\n",
      "2    3   -0.033292     0.796533  425457.986667\n",
      "3    4    0.011511     0.697518  464766.895000\n",
      "4    5    0.008146     0.631128  490777.104000\n",
      "..  ..         ...          ...            ...\n",
      "74  75    0.113607     0.167900  886115.547733\n",
      "75  76    0.113455     0.166780  896606.630395\n",
      "76  77    0.113588     0.165770  900574.578961\n",
      "77  78    0.113309     0.165087  913635.656923\n",
      "78  79    0.114145     0.164297  913270.800127\n",
      "\n",
      "[79 rows x 4 columns]\n"
     ]
    }
   ],
   "source": [
    "knn_r_acc = []\n",
    "\n",
    "for i in range(1,80,1):\n",
    "    knn = KNeighborsRegressor(n_neighbors=i)\n",
    "    knn.fit(X_train,Y_train)\n",
    "    test_score = knn.score(X_test,Y_test)\n",
    "    knnpred = knn.predict(X_test)\n",
    "    train_score = knn.score(X_train,Y_train)\n",
    "    mse = metrics.median_absolute_error(knnpred, Y_test)\n",
    "    knn_r_acc.append((i, test_score ,train_score, mse))\n",
    "df = pd.DataFrame(knn_r_acc, columns=['K','Test Score','Train Score', 'MSE'])\n",
    "print(df)"
   ]
  },
  {
   "cell_type": "code",
   "execution_count": 476,
   "id": "3569390f",
   "metadata": {},
   "outputs": [
    {
     "data": {
      "text/plain": [
       "350728.76"
      ]
     },
     "execution_count": 476,
     "metadata": {},
     "output_type": "execute_result"
    }
   ],
   "source": [
    "min(df['MSE']) #minimum MSE for 1 - 80 neighbors "
   ]
  },
  {
   "cell_type": "code",
   "execution_count": 469,
   "id": "82cd69d8",
   "metadata": {},
   "outputs": [
    {
     "name": "stdout",
     "output_type": "stream",
     "text": [
      "      K  Test Score  Train Score           MSE\n",
      "0    80    0.114681     0.163818  9.283541e+05\n",
      "1    81    0.113618     0.164103  9.400526e+05\n",
      "2    82    0.114783     0.163990  9.455068e+05\n",
      "3    83    0.116894     0.162939  9.597270e+05\n",
      "4    84    0.117151     0.161735  9.577502e+05\n",
      "5    85    0.116744     0.161236  9.620335e+05\n",
      "6    86    0.116328     0.160860  9.624044e+05\n",
      "7    87    0.115431     0.160359  9.706237e+05\n",
      "8    88    0.114627     0.160139  9.747260e+05\n",
      "9    89    0.114234     0.159680  9.757775e+05\n",
      "10   90    0.114157     0.159026  9.744968e+05\n",
      "11   91    0.113797     0.158490  9.703953e+05\n",
      "12   92    0.112735     0.157700  9.805683e+05\n",
      "13   93    0.112496     0.156699  9.888850e+05\n",
      "14   94    0.112487     0.155664  9.944291e+05\n",
      "15   95    0.112305     0.154866  9.908855e+05\n",
      "16   96    0.111706     0.153896  9.878611e+05\n",
      "17   97    0.110780     0.152958  9.839637e+05\n",
      "18   98    0.109880     0.152621  9.888762e+05\n",
      "19   99    0.108970     0.152718  9.969404e+05\n",
      "20  100    0.107984     0.152465  9.959452e+05\n",
      "21  101    0.107256     0.151896  1.006674e+06\n",
      "22  102    0.106513     0.151128  1.015133e+06\n",
      "23  103    0.105871     0.150192  1.014351e+06\n",
      "24  104    0.107653     0.149413  1.014081e+06\n",
      "25  105    0.108976     0.148366  1.005767e+06\n",
      "26  106    0.108954     0.147749  1.021545e+06\n",
      "27  107    0.109414     0.147634  1.025556e+06\n",
      "28  108    0.109229     0.147087  1.025544e+06\n",
      "29  109    0.108667     0.146237  1.031835e+06\n",
      "30  110    0.108863     0.145518  1.043659e+06\n",
      "31  111    0.108926     0.145361  1.038366e+06\n",
      "32  112    0.108809     0.145094  1.034473e+06\n",
      "33  113    0.108402     0.144519  1.042180e+06\n",
      "34  114    0.107816     0.143997  1.047696e+06\n",
      "35  115    0.107752     0.143215  1.052292e+06\n",
      "36  116    0.108002     0.142451  1.046653e+06\n",
      "37  117    0.109228     0.141740  1.047317e+06\n",
      "38  118    0.110568     0.140919  1.053580e+06\n",
      "39  119    0.110388     0.140224  1.054651e+06\n"
     ]
    }
   ],
   "source": [
    "knn_r_acc = []\n",
    "\n",
    "for i in range(80,120,1):\n",
    "    knn = KNeighborsRegressor(n_neighbors=i)\n",
    "    knn.fit(X_train,Y_train)\n",
    "    test_score = knn.score(X_test,Y_test)\n",
    "    knnpred = knn.predict(X_test)\n",
    "    train_score = knn.score(X_train,Y_train)\n",
    "    mse = metrics.median_absolute_error(knnpred, Y_test)\n",
    "    knn_r_acc.append((i, test_score ,train_score, mse))\n",
    "df = pd.DataFrame(knn_r_acc, columns=['K','Test Score','Train Score', 'MSE'])\n",
    "print(df)"
   ]
  },
  {
   "cell_type": "code",
   "execution_count": 467,
   "id": "8affe77c",
   "metadata": {},
   "outputs": [
    {
     "name": "stdout",
     "output_type": "stream",
     "text": [
      "      K  Test Score  Train Score           MSE\n",
      "0   120    0.110733     0.139297  1.052701e+06\n",
      "1   121    0.110643     0.138950  1.054482e+06\n",
      "2   122    0.110910     0.138949  1.053854e+06\n",
      "3   123    0.111508     0.138531  1.062280e+06\n",
      "4   124    0.111016     0.137853  1.062312e+06\n",
      "5   125    0.110331     0.137005  1.064161e+06\n",
      "6   126    0.110050     0.136174  1.068147e+06\n",
      "7   127    0.110631     0.135434  1.077805e+06\n",
      "8   128    0.111868     0.134781  1.080331e+06\n",
      "9   129    0.111247     0.134269  1.088451e+06\n",
      "10  130    0.110539     0.133715  1.110136e+06\n",
      "11  131    0.109951     0.133434  1.116709e+06\n",
      "12  132    0.109598     0.133061  1.131261e+06\n",
      "13  133    0.109328     0.132515  1.122044e+06\n",
      "14  134    0.109272     0.131862  1.125835e+06\n",
      "15  135    0.109657     0.131701  1.126438e+06\n",
      "16  136    0.110061     0.131508  1.122266e+06\n",
      "17  137    0.110270     0.131322  1.133948e+06\n",
      "18  138    0.111328     0.131176  1.128300e+06\n",
      "19  139    0.111910     0.130760  1.135656e+06\n",
      "20  140    0.111824     0.130587  1.145944e+06\n",
      "21  141    0.111646     0.130786  1.143944e+06\n",
      "22  142    0.110935     0.130603  1.141546e+06\n",
      "23  143    0.110356     0.130197  1.137828e+06\n",
      "24  144    0.110183     0.129775  1.131088e+06\n",
      "25  145    0.109797     0.129484  1.135914e+06\n",
      "26  146    0.109084     0.129505  1.143271e+06\n",
      "27  147    0.108977     0.129223  1.141793e+06\n",
      "28  148    0.108849     0.128791  1.139943e+06\n",
      "29  149    0.108155     0.128234  1.141235e+06\n"
     ]
    }
   ],
   "source": [
    "knn_r_acc = []\n",
    "\n",
    "for i in range(120,150,1):\n",
    "    knn = KNeighborsRegressor(n_neighbors=i)\n",
    "    knn.fit(X_train,Y_train)\n",
    "    test_score = knn.score(X_test,Y_test)\n",
    "    knnpred = knn.predict(X_test)\n",
    "    train_score = knn.score(X_train,Y_train)\n",
    "    mse = metrics.median_absolute_error(knnpred, Y_test)\n",
    "    knn_r_acc.append((i, test_score ,train_score, mse))\n",
    "df = pd.DataFrame(knn_r_acc, columns=['K','Test Score','Train Score', 'MSE'])\n",
    "print(df)"
   ]
  },
  {
   "cell_type": "code",
   "execution_count": 468,
   "id": "2d1599e9",
   "metadata": {},
   "outputs": [
    {
     "name": "stdout",
     "output_type": "stream",
     "text": [
      "      K  Test Score  Train Score           MSE\n",
      "0   150    0.107868     0.127979  1.154461e+06\n",
      "1   151    0.107792     0.128023  1.155815e+06\n",
      "2   152    0.107225     0.127794  1.162206e+06\n",
      "3   153    0.106679     0.127309  1.184620e+06\n",
      "4   154    0.106162     0.126797  1.185870e+06\n",
      "5   155    0.105847     0.126144  1.184871e+06\n",
      "6   156    0.105564     0.125602  1.190389e+06\n",
      "7   157    0.104923     0.125015  1.194250e+06\n",
      "8   158    0.104432     0.124771  1.194826e+06\n",
      "9   159    0.104129     0.124535  1.192329e+06\n",
      "10  160    0.103960     0.124146  1.196099e+06\n",
      "11  161    0.103718     0.123949  1.193377e+06\n",
      "12  162    0.103324     0.123516  1.205722e+06\n",
      "13  163    0.103459     0.123013  1.207239e+06\n",
      "14  164    0.103869     0.122654  1.205973e+06\n",
      "15  165    0.103819     0.122367  1.219260e+06\n",
      "16  166    0.103550     0.122189  1.223451e+06\n",
      "17  167    0.103085     0.121783  1.252242e+06\n",
      "18  168    0.102427     0.121274  1.248046e+06\n",
      "19  169    0.101807     0.120639  1.243644e+06\n",
      "20  170    0.101378     0.120258  1.244183e+06\n",
      "21  171    0.101047     0.119929  1.253174e+06\n",
      "22  172    0.100627     0.119381  1.255002e+06\n",
      "23  173    0.100381     0.118985  1.264585e+06\n",
      "24  174    0.100215     0.118573  1.272583e+06\n",
      "25  175    0.099681     0.118128  1.292047e+06\n",
      "26  176    0.099636     0.117770  1.286019e+06\n",
      "27  177    0.100002     0.117800  1.280807e+06\n",
      "28  178    0.099972     0.117762  1.289360e+06\n",
      "29  179    0.100078     0.117566  1.293597e+06\n"
     ]
    }
   ],
   "source": [
    "knn_r_acc = []\n",
    "\n",
    "for i in range(150,180,1):\n",
    "    knn = KNeighborsRegressor(n_neighbors=i)\n",
    "    knn.fit(X_train,Y_train)\n",
    "    test_score = knn.score(X_test,Y_test)\n",
    "    knnpred = knn.predict(X_test)\n",
    "    train_score = knn.score(X_train,Y_train)\n",
    "    mse = metrics.median_absolute_error(knnpred, Y_test)\n",
    "    knn_r_acc.append((i, test_score ,train_score, mse))\n",
    "df = pd.DataFrame(knn_r_acc, columns=['K','Test Score','Train Score', 'MSE'])\n",
    "print(df)"
   ]
  },
  {
   "cell_type": "markdown",
   "id": "b8fa213e",
   "metadata": {},
   "source": [
    "### Linear Regressors "
   ]
  },
  {
   "cell_type": "markdown",
   "id": "330ca06e",
   "metadata": {},
   "source": [
    "I also tried some basic linear regressors, which performed the worst of all the models I tried. The Perceptron outperformed the classic linear regressors (unsurprisingly), but did not perform significantly better than kNN. First on the list was the classic linear regression model. "
   ]
  },
  {
   "cell_type": "code",
   "execution_count": 36,
   "id": "8eb64bb8",
   "metadata": {},
   "outputs": [],
   "source": [
    "linreg = linear_model.LinearRegression()\n",
    "linmodel = linreg.fit(X_train, Y_train)"
   ]
  },
  {
   "cell_type": "code",
   "execution_count": 38,
   "id": "69730ab3",
   "metadata": {},
   "outputs": [
    {
     "name": "stdout",
     "output_type": "stream",
     "text": [
      "0.0784861916347751\n"
     ]
    }
   ],
   "source": [
    "print(linmodel.score(X_test, Y_test))"
   ]
  },
  {
   "cell_type": "code",
   "execution_count": 40,
   "id": "e6407bca",
   "metadata": {},
   "outputs": [
    {
     "name": "stdout",
     "output_type": "stream",
     "text": [
      "Median absolute error:7585091.394977176\n"
     ]
    }
   ],
   "source": [
    "linpred = linmodel.predict(X_test)\n",
    "print('Median absolute error:' + str(metrics.median_absolute_error(linpred, Y_test)))"
   ]
  },
  {
   "cell_type": "markdown",
   "id": "6430a89e",
   "metadata": {},
   "source": [
    "Next, I tried ridge regression, achieving about the same MAE. "
   ]
  },
  {
   "cell_type": "code",
   "execution_count": 460,
   "id": "04b46fd6",
   "metadata": {},
   "outputs": [],
   "source": [
    "ridgereg = linear_model.Ridge(alpha=.5)\n",
    "ridgemodel = ridgereg.fit(X_train, Y_train)"
   ]
  },
  {
   "cell_type": "code",
   "execution_count": 461,
   "id": "e0f7a188",
   "metadata": {},
   "outputs": [
    {
     "name": "stdout",
     "output_type": "stream",
     "text": [
      "0.07848619163466375\n"
     ]
    }
   ],
   "source": [
    "print(ridgemodel.score(X_test, Y_test))"
   ]
  },
  {
   "cell_type": "code",
   "execution_count": 462,
   "id": "50173681",
   "metadata": {},
   "outputs": [
    {
     "name": "stdout",
     "output_type": "stream",
     "text": [
      "Median absolute error: 7585091.395852613\n"
     ]
    }
   ],
   "source": [
    "ridgepreds = ridgemodel.predict(X_test)\n",
    "print('Median absolute error: ' + str(metrics.median_absolute_error(ridgepreds, Y_test)))"
   ]
  },
  {
   "cell_type": "markdown",
   "id": "666d7bba",
   "metadata": {},
   "source": [
    "Finally, I tried the Perceptron regressor, which took longer to train and yielded much better accuracy than the classical regressors, but the MAE was still quite high. "
   ]
  },
  {
   "cell_type": "code",
   "execution_count": 248,
   "id": "efaf25bd",
   "metadata": {},
   "outputs": [],
   "source": [
    "from sklearn.neural_network import MLPRegressor\n",
    "perceptronmodel = MLPRegressor(random_state=1, max_iter=500).fit(X_train, y_train)\n",
    "#perceptronmodel.score(X_train, y_train)\n",
    "#perceptronmodel.predict(X_test[:2])\n",
    "#regr.score(X_test, y_test)"
   ]
  },
  {
   "cell_type": "code",
   "execution_count": 249,
   "id": "ac86f5a3",
   "metadata": {},
   "outputs": [],
   "source": [
    "Xtrain = StandardScaler().fit_transform(X_train) #Each feature of equal importance\n",
    "Xtrain = MinMaxScaler().fit_transform(X_train) #scale all features to given range (default appears to be 0 to 1)"
   ]
  },
  {
   "cell_type": "code",
   "execution_count": 250,
   "id": "5f7d1cc9",
   "metadata": {},
   "outputs": [],
   "source": [
    "perceppred = perceptronmodel.predict(X_test)"
   ]
  },
  {
   "cell_type": "code",
   "execution_count": 79,
   "id": "3513a269",
   "metadata": {},
   "outputs": [
    {
     "data": {
      "text/plain": [
       "0.1571260627609482"
      ]
     },
     "execution_count": 79,
     "metadata": {},
     "output_type": "execute_result"
    }
   ],
   "source": [
    "perceptronmodel.score(X_test, Y_test)"
   ]
  },
  {
   "cell_type": "code",
   "execution_count": 437,
   "id": "aef32694",
   "metadata": {},
   "outputs": [
    {
     "data": {
      "text/plain": [
       "3134041.164885473"
      ]
     },
     "execution_count": 437,
     "metadata": {},
     "output_type": "execute_result"
    }
   ],
   "source": [
    "metrics.median_absolute_error(perceppred, Y_test)\n",
    "#metrics.mean_squared_error(perceppred, Y_test)"
   ]
  },
  {
   "cell_type": "markdown",
   "id": "fca4348e",
   "metadata": {},
   "source": [
    "### Stochastic Gradient Descent Regressor"
   ]
  },
  {
   "cell_type": "markdown",
   "id": "970536b1",
   "metadata": {},
   "source": [
    "The stochastic gradient descent (SGD) regressor did not perform very well. "
   ]
  },
  {
   "cell_type": "code",
   "execution_count": 41,
   "id": "e9d1b5a0",
   "metadata": {},
   "outputs": [
    {
     "data": {
      "text/html": [
       "<style>#sk-container-id-1 {color: black;background-color: white;}#sk-container-id-1 pre{padding: 0;}#sk-container-id-1 div.sk-toggleable {background-color: white;}#sk-container-id-1 label.sk-toggleable__label {cursor: pointer;display: block;width: 100%;margin-bottom: 0;padding: 0.3em;box-sizing: border-box;text-align: center;}#sk-container-id-1 label.sk-toggleable__label-arrow:before {content: \"▸\";float: left;margin-right: 0.25em;color: #696969;}#sk-container-id-1 label.sk-toggleable__label-arrow:hover:before {color: black;}#sk-container-id-1 div.sk-estimator:hover label.sk-toggleable__label-arrow:before {color: black;}#sk-container-id-1 div.sk-toggleable__content {max-height: 0;max-width: 0;overflow: hidden;text-align: left;background-color: #f0f8ff;}#sk-container-id-1 div.sk-toggleable__content pre {margin: 0.2em;color: black;border-radius: 0.25em;background-color: #f0f8ff;}#sk-container-id-1 input.sk-toggleable__control:checked~div.sk-toggleable__content {max-height: 200px;max-width: 100%;overflow: auto;}#sk-container-id-1 input.sk-toggleable__control:checked~label.sk-toggleable__label-arrow:before {content: \"▾\";}#sk-container-id-1 div.sk-estimator input.sk-toggleable__control:checked~label.sk-toggleable__label {background-color: #d4ebff;}#sk-container-id-1 div.sk-label input.sk-toggleable__control:checked~label.sk-toggleable__label {background-color: #d4ebff;}#sk-container-id-1 input.sk-hidden--visually {border: 0;clip: rect(1px 1px 1px 1px);clip: rect(1px, 1px, 1px, 1px);height: 1px;margin: -1px;overflow: hidden;padding: 0;position: absolute;width: 1px;}#sk-container-id-1 div.sk-estimator {font-family: monospace;background-color: #f0f8ff;border: 1px dotted black;border-radius: 0.25em;box-sizing: border-box;margin-bottom: 0.5em;}#sk-container-id-1 div.sk-estimator:hover {background-color: #d4ebff;}#sk-container-id-1 div.sk-parallel-item::after {content: \"\";width: 100%;border-bottom: 1px solid gray;flex-grow: 1;}#sk-container-id-1 div.sk-label:hover label.sk-toggleable__label {background-color: #d4ebff;}#sk-container-id-1 div.sk-serial::before {content: \"\";position: absolute;border-left: 1px solid gray;box-sizing: border-box;top: 0;bottom: 0;left: 50%;z-index: 0;}#sk-container-id-1 div.sk-serial {display: flex;flex-direction: column;align-items: center;background-color: white;padding-right: 0.2em;padding-left: 0.2em;position: relative;}#sk-container-id-1 div.sk-item {position: relative;z-index: 1;}#sk-container-id-1 div.sk-parallel {display: flex;align-items: stretch;justify-content: center;background-color: white;position: relative;}#sk-container-id-1 div.sk-item::before, #sk-container-id-1 div.sk-parallel-item::before {content: \"\";position: absolute;border-left: 1px solid gray;box-sizing: border-box;top: 0;bottom: 0;left: 50%;z-index: -1;}#sk-container-id-1 div.sk-parallel-item {display: flex;flex-direction: column;z-index: 1;position: relative;background-color: white;}#sk-container-id-1 div.sk-parallel-item:first-child::after {align-self: flex-end;width: 50%;}#sk-container-id-1 div.sk-parallel-item:last-child::after {align-self: flex-start;width: 50%;}#sk-container-id-1 div.sk-parallel-item:only-child::after {width: 0;}#sk-container-id-1 div.sk-dashed-wrapped {border: 1px dashed gray;margin: 0 0.4em 0.5em 0.4em;box-sizing: border-box;padding-bottom: 0.4em;background-color: white;}#sk-container-id-1 div.sk-label label {font-family: monospace;font-weight: bold;display: inline-block;line-height: 1.2em;}#sk-container-id-1 div.sk-label-container {text-align: center;}#sk-container-id-1 div.sk-container {/* jupyter's `normalize.less` sets `[hidden] { display: none; }` but bootstrap.min.css set `[hidden] { display: none !important; }` so we also need the `!important` here to be able to override the default hidden behavior on the sphinx rendered scikit-learn.org. See: https://github.com/scikit-learn/scikit-learn/issues/21755 */display: inline-block !important;position: relative;}#sk-container-id-1 div.sk-text-repr-fallback {display: none;}</style><div id=\"sk-container-id-1\" class=\"sk-top-container\"><div class=\"sk-text-repr-fallback\"><pre>Pipeline(steps=[(&#x27;standardscaler&#x27;, StandardScaler()),\n",
       "                (&#x27;sgdregressor&#x27;, SGDRegressor(max_iter=100))])</pre><b>In a Jupyter environment, please rerun this cell to show the HTML representation or trust the notebook. <br />On GitHub, the HTML representation is unable to render, please try loading this page with nbviewer.org.</b></div><div class=\"sk-container\" hidden><div class=\"sk-item sk-dashed-wrapped\"><div class=\"sk-label-container\"><div class=\"sk-label sk-toggleable\"><input class=\"sk-toggleable__control sk-hidden--visually\" id=\"sk-estimator-id-1\" type=\"checkbox\" ><label for=\"sk-estimator-id-1\" class=\"sk-toggleable__label sk-toggleable__label-arrow\">Pipeline</label><div class=\"sk-toggleable__content\"><pre>Pipeline(steps=[(&#x27;standardscaler&#x27;, StandardScaler()),\n",
       "                (&#x27;sgdregressor&#x27;, SGDRegressor(max_iter=100))])</pre></div></div></div><div class=\"sk-serial\"><div class=\"sk-item\"><div class=\"sk-estimator sk-toggleable\"><input class=\"sk-toggleable__control sk-hidden--visually\" id=\"sk-estimator-id-2\" type=\"checkbox\" ><label for=\"sk-estimator-id-2\" class=\"sk-toggleable__label sk-toggleable__label-arrow\">StandardScaler</label><div class=\"sk-toggleable__content\"><pre>StandardScaler()</pre></div></div></div><div class=\"sk-item\"><div class=\"sk-estimator sk-toggleable\"><input class=\"sk-toggleable__control sk-hidden--visually\" id=\"sk-estimator-id-3\" type=\"checkbox\" ><label for=\"sk-estimator-id-3\" class=\"sk-toggleable__label sk-toggleable__label-arrow\">SGDRegressor</label><div class=\"sk-toggleable__content\"><pre>SGDRegressor(max_iter=100)</pre></div></div></div></div></div></div></div>"
      ],
      "text/plain": [
       "Pipeline(steps=[('standardscaler', StandardScaler()),\n",
       "                ('sgdregressor', SGDRegressor(max_iter=100))])"
      ]
     },
     "execution_count": 41,
     "metadata": {},
     "output_type": "execute_result"
    }
   ],
   "source": [
    "reg = make_pipeline(StandardScaler(), SGDRegressor(max_iter=100, tol=1e-3))\n",
    "reg.fit(X_train, Y_train.ravel())"
   ]
  },
  {
   "cell_type": "code",
   "execution_count": 42,
   "id": "cc0c89e1",
   "metadata": {},
   "outputs": [
    {
     "data": {
      "text/plain": [
       "0.09511458371422865"
      ]
     },
     "execution_count": 42,
     "metadata": {},
     "output_type": "execute_result"
    }
   ],
   "source": [
    "#R2 score of regressor \n",
    "reg.score(X_train, Y_train.ravel())"
   ]
  },
  {
   "cell_type": "code",
   "execution_count": 43,
   "id": "ae380b0a",
   "metadata": {},
   "outputs": [],
   "source": [
    "sgdpred = reg.predict(X_train)"
   ]
  },
  {
   "cell_type": "code",
   "execution_count": 44,
   "id": "bc89f3f0",
   "metadata": {},
   "outputs": [
    {
     "name": "stdout",
     "output_type": "stream",
     "text": [
      "Median Absolute Error: 6678112.121793327\n"
     ]
    }
   ],
   "source": [
    "print('Median Absolute Error: ' + str(metrics.median_absolute_error(sgdpred, Y_train)))"
   ]
  },
  {
   "cell_type": "markdown",
   "id": "a843b94e",
   "metadata": {},
   "source": [
    "### Support Vector Machine "
   ]
  },
  {
   "cell_type": "markdown",
   "id": "228f87ac",
   "metadata": {},
   "source": [
    "Support vector machines are another popular model that are said to perform on the caliber of neural nets, so I decided to give them a try. While SVM performed better than some of the other models I tried, the decision tree model still yielded better results. "
   ]
  },
  {
   "cell_type": "code",
   "execution_count": 45,
   "id": "73c9ac29",
   "metadata": {},
   "outputs": [],
   "source": [
    "r = make_pipeline(StandardScaler(), svm.SVR()) #scaling \n",
    "svmmodel = r.fit(X_train, y_train)"
   ]
  },
  {
   "cell_type": "code",
   "execution_count": 46,
   "id": "c47ed816",
   "metadata": {},
   "outputs": [],
   "source": [
    "svmpred=svmmodel.predict(X_test)"
   ]
  },
  {
   "cell_type": "markdown",
   "id": "8fcd2b20",
   "metadata": {},
   "source": [
    "The $R^2$ score of the SVM is not very high."
   ]
  },
  {
   "cell_type": "code",
   "execution_count": 47,
   "id": "9a7e2b82",
   "metadata": {},
   "outputs": [
    {
     "name": "stdout",
     "output_type": "stream",
     "text": [
      "-0.037496450818946814\n"
     ]
    }
   ],
   "source": [
    "print(svmmodel.score(X_test,Y_test))"
   ]
  },
  {
   "cell_type": "code",
   "execution_count": 48,
   "id": "1893f399",
   "metadata": {},
   "outputs": [
    {
     "name": "stdout",
     "output_type": "stream",
     "text": [
      "615257.3390554702\n"
     ]
    }
   ],
   "source": [
    "print(metrics.median_absolute_error(svmpred, Y_test))"
   ]
  },
  {
   "cell_type": "markdown",
   "id": "61bf815b",
   "metadata": {},
   "source": [
    "## After SMOGN"
   ]
  },
  {
   "cell_type": "markdown",
   "id": "b7200972",
   "metadata": {},
   "source": [
    "I tested my top performing models with SMOGN data. First, I tried with decision trees. "
   ]
  },
  {
   "cell_type": "markdown",
   "id": "b42233ae",
   "metadata": {},
   "source": [
    "### Decision Tree and SMOGN"
   ]
  },
  {
   "cell_type": "code",
   "execution_count": 55,
   "id": "ccc5696a",
   "metadata": {},
   "outputs": [
    {
     "data": {
      "text/html": [
       "<div>\n",
       "<style scoped>\n",
       "    .dataframe tbody tr th:only-of-type {\n",
       "        vertical-align: middle;\n",
       "    }\n",
       "\n",
       "    .dataframe tbody tr th {\n",
       "        vertical-align: top;\n",
       "    }\n",
       "\n",
       "    .dataframe thead th {\n",
       "        text-align: right;\n",
       "    }\n",
       "</style>\n",
       "<table border=\"1\" class=\"dataframe\">\n",
       "  <thead>\n",
       "    <tr style=\"text-align: right;\">\n",
       "      <th></th>\n",
       "      <th>Brnd_Name</th>\n",
       "      <th>Gnrc_Name</th>\n",
       "      <th>Mftr_Name</th>\n",
       "      <th>Tot_Dsg_Unts</th>\n",
       "      <th>Tot_Clms</th>\n",
       "      <th>Avg_Spnd_Per_Dsg_Unt_Wghtd</th>\n",
       "      <th>Avg_Spnd_Per_Clm</th>\n",
       "    </tr>\n",
       "  </thead>\n",
       "  <tbody>\n",
       "    <tr>\n",
       "      <th>0</th>\n",
       "      <td>1605</td>\n",
       "      <td>649</td>\n",
       "      <td>63</td>\n",
       "      <td>6.762309e+07</td>\n",
       "      <td>695772</td>\n",
       "      <td>0.080000</td>\n",
       "      <td>9.875346</td>\n",
       "    </tr>\n",
       "    <tr>\n",
       "      <th>1</th>\n",
       "      <td>415</td>\n",
       "      <td>347</td>\n",
       "      <td>15</td>\n",
       "      <td>1.215973e+08</td>\n",
       "      <td>840729</td>\n",
       "      <td>0.060000</td>\n",
       "      <td>8.880000</td>\n",
       "    </tr>\n",
       "    <tr>\n",
       "      <th>2</th>\n",
       "      <td>2161</td>\n",
       "      <td>1461</td>\n",
       "      <td>0</td>\n",
       "      <td>8.211420e+05</td>\n",
       "      <td>25694</td>\n",
       "      <td>29.860000</td>\n",
       "      <td>915.590000</td>\n",
       "    </tr>\n",
       "    <tr>\n",
       "      <th>3</th>\n",
       "      <td>2161</td>\n",
       "      <td>1461</td>\n",
       "      <td>256</td>\n",
       "      <td>8.211420e+05</td>\n",
       "      <td>25694</td>\n",
       "      <td>29.860000</td>\n",
       "      <td>915.590000</td>\n",
       "    </tr>\n",
       "    <tr>\n",
       "      <th>4</th>\n",
       "      <td>779</td>\n",
       "      <td>606</td>\n",
       "      <td>3</td>\n",
       "      <td>1.457732e+07</td>\n",
       "      <td>449817</td>\n",
       "      <td>0.260741</td>\n",
       "      <td>8.514812</td>\n",
       "    </tr>\n",
       "    <tr>\n",
       "      <th>...</th>\n",
       "      <td>...</td>\n",
       "      <td>...</td>\n",
       "      <td>...</td>\n",
       "      <td>...</td>\n",
       "      <td>...</td>\n",
       "      <td>...</td>\n",
       "      <td>...</td>\n",
       "    </tr>\n",
       "    <tr>\n",
       "      <th>12906</th>\n",
       "      <td>2544</td>\n",
       "      <td>253</td>\n",
       "      <td>500</td>\n",
       "      <td>4.944574e+06</td>\n",
       "      <td>189542</td>\n",
       "      <td>8.670000</td>\n",
       "      <td>225.550000</td>\n",
       "    </tr>\n",
       "    <tr>\n",
       "      <th>12907</th>\n",
       "      <td>2551</td>\n",
       "      <td>1165</td>\n",
       "      <td>0</td>\n",
       "      <td>3.453165e+05</td>\n",
       "      <td>9343</td>\n",
       "      <td>22.880000</td>\n",
       "      <td>719.380000</td>\n",
       "    </tr>\n",
       "    <tr>\n",
       "      <th>12908</th>\n",
       "      <td>2551</td>\n",
       "      <td>1165</td>\n",
       "      <td>501</td>\n",
       "      <td>3.453165e+05</td>\n",
       "      <td>9343</td>\n",
       "      <td>22.880000</td>\n",
       "      <td>719.380000</td>\n",
       "    </tr>\n",
       "    <tr>\n",
       "      <th>12909</th>\n",
       "      <td>2552</td>\n",
       "      <td>1664</td>\n",
       "      <td>0</td>\n",
       "      <td>8.874170e+05</td>\n",
       "      <td>9362</td>\n",
       "      <td>105.690000</td>\n",
       "      <td>9027.920000</td>\n",
       "    </tr>\n",
       "    <tr>\n",
       "      <th>12910</th>\n",
       "      <td>2552</td>\n",
       "      <td>1664</td>\n",
       "      <td>274</td>\n",
       "      <td>7.077410e+05</td>\n",
       "      <td>6218</td>\n",
       "      <td>79.380000</td>\n",
       "      <td>9035.390000</td>\n",
       "    </tr>\n",
       "  </tbody>\n",
       "</table>\n",
       "<p>12911 rows × 7 columns</p>\n",
       "</div>"
      ],
      "text/plain": [
       "       Brnd_Name  Gnrc_Name  Mftr_Name  Tot_Dsg_Unts  Tot_Clms  \\\n",
       "0           1605        649         63  6.762309e+07    695772   \n",
       "1            415        347         15  1.215973e+08    840729   \n",
       "2           2161       1461          0  8.211420e+05     25694   \n",
       "3           2161       1461        256  8.211420e+05     25694   \n",
       "4            779        606          3  1.457732e+07    449817   \n",
       "...          ...        ...        ...           ...       ...   \n",
       "12906       2544        253        500  4.944574e+06    189542   \n",
       "12907       2551       1165          0  3.453165e+05      9343   \n",
       "12908       2551       1165        501  3.453165e+05      9343   \n",
       "12909       2552       1664          0  8.874170e+05      9362   \n",
       "12910       2552       1664        274  7.077410e+05      6218   \n",
       "\n",
       "       Avg_Spnd_Per_Dsg_Unt_Wghtd  Avg_Spnd_Per_Clm  \n",
       "0                        0.080000          9.875346  \n",
       "1                        0.060000          8.880000  \n",
       "2                       29.860000        915.590000  \n",
       "3                       29.860000        915.590000  \n",
       "4                        0.260741          8.514812  \n",
       "...                           ...               ...  \n",
       "12906                    8.670000        225.550000  \n",
       "12907                   22.880000        719.380000  \n",
       "12908                   22.880000        719.380000  \n",
       "12909                  105.690000       9027.920000  \n",
       "12910                   79.380000       9035.390000  \n",
       "\n",
       "[12911 rows x 7 columns]"
      ]
     },
     "execution_count": 55,
     "metadata": {},
     "output_type": "execute_result"
    }
   ],
   "source": [
    "Xbal = pd.read_csv('Xbal.csv')\n",
    "Xbal"
   ]
  },
  {
   "cell_type": "code",
   "execution_count": 56,
   "id": "b69e1049",
   "metadata": {},
   "outputs": [
    {
     "data": {
      "text/html": [
       "<div>\n",
       "<style scoped>\n",
       "    .dataframe tbody tr th:only-of-type {\n",
       "        vertical-align: middle;\n",
       "    }\n",
       "\n",
       "    .dataframe tbody tr th {\n",
       "        vertical-align: top;\n",
       "    }\n",
       "\n",
       "    .dataframe thead th {\n",
       "        text-align: right;\n",
       "    }\n",
       "</style>\n",
       "<table border=\"1\" class=\"dataframe\">\n",
       "  <thead>\n",
       "    <tr style=\"text-align: right;\">\n",
       "      <th></th>\n",
       "      <th>Tot_Spndng</th>\n",
       "    </tr>\n",
       "  </thead>\n",
       "  <tbody>\n",
       "    <tr>\n",
       "      <th>0</th>\n",
       "      <td>5.363024e+06</td>\n",
       "    </tr>\n",
       "    <tr>\n",
       "      <th>1</th>\n",
       "      <td>1.119897e+07</td>\n",
       "    </tr>\n",
       "    <tr>\n",
       "      <th>2</th>\n",
       "      <td>3.528764e+07</td>\n",
       "    </tr>\n",
       "    <tr>\n",
       "      <th>3</th>\n",
       "      <td>3.528764e+07</td>\n",
       "    </tr>\n",
       "    <tr>\n",
       "      <th>4</th>\n",
       "      <td>4.060972e+06</td>\n",
       "    </tr>\n",
       "    <tr>\n",
       "      <th>...</th>\n",
       "      <td>...</td>\n",
       "    </tr>\n",
       "    <tr>\n",
       "      <th>12906</th>\n",
       "      <td>4.275206e+07</td>\n",
       "    </tr>\n",
       "    <tr>\n",
       "      <th>12907</th>\n",
       "      <td>6.721212e+06</td>\n",
       "    </tr>\n",
       "    <tr>\n",
       "      <th>12908</th>\n",
       "      <td>6.721212e+06</td>\n",
       "    </tr>\n",
       "    <tr>\n",
       "      <th>12909</th>\n",
       "      <td>8.451938e+07</td>\n",
       "    </tr>\n",
       "    <tr>\n",
       "      <th>12910</th>\n",
       "      <td>5.618204e+07</td>\n",
       "    </tr>\n",
       "  </tbody>\n",
       "</table>\n",
       "<p>12911 rows × 1 columns</p>\n",
       "</div>"
      ],
      "text/plain": [
       "         Tot_Spndng\n",
       "0      5.363024e+06\n",
       "1      1.119897e+07\n",
       "2      3.528764e+07\n",
       "3      3.528764e+07\n",
       "4      4.060972e+06\n",
       "...             ...\n",
       "12906  4.275206e+07\n",
       "12907  6.721212e+06\n",
       "12908  6.721212e+06\n",
       "12909  8.451938e+07\n",
       "12910  5.618204e+07\n",
       "\n",
       "[12911 rows x 1 columns]"
      ]
     },
     "execution_count": 56,
     "metadata": {},
     "output_type": "execute_result"
    }
   ],
   "source": [
    "Ybal = pd.read_csv('Ybal.csv')\n",
    "Ybal"
   ]
  },
  {
   "cell_type": "markdown",
   "id": "926c5416",
   "metadata": {},
   "source": [
    "We now combine the original training data and the synthetic data. "
   ]
  },
  {
   "cell_type": "code",
   "execution_count": 57,
   "id": "ce58b0cf",
   "metadata": {},
   "outputs": [
    {
     "data": {
      "text/html": [
       "<div>\n",
       "<style scoped>\n",
       "    .dataframe tbody tr th:only-of-type {\n",
       "        vertical-align: middle;\n",
       "    }\n",
       "\n",
       "    .dataframe tbody tr th {\n",
       "        vertical-align: top;\n",
       "    }\n",
       "\n",
       "    .dataframe thead th {\n",
       "        text-align: right;\n",
       "    }\n",
       "</style>\n",
       "<table border=\"1\" class=\"dataframe\">\n",
       "  <thead>\n",
       "    <tr style=\"text-align: right;\">\n",
       "      <th></th>\n",
       "      <th>Brnd_Name</th>\n",
       "      <th>Gnrc_Name</th>\n",
       "      <th>Mftr_Name</th>\n",
       "      <th>Tot_Dsg_Unts</th>\n",
       "      <th>Tot_Clms</th>\n",
       "      <th>Avg_Spnd_Per_Dsg_Unt_Wghtd</th>\n",
       "      <th>Avg_Spnd_Per_Clm</th>\n",
       "    </tr>\n",
       "  </thead>\n",
       "  <tbody>\n",
       "    <tr>\n",
       "      <th>0</th>\n",
       "      <td>1605</td>\n",
       "      <td>649</td>\n",
       "      <td>63</td>\n",
       "      <td>6.762309e+07</td>\n",
       "      <td>695772</td>\n",
       "      <td>0.080000</td>\n",
       "      <td>9.875346</td>\n",
       "    </tr>\n",
       "    <tr>\n",
       "      <th>1</th>\n",
       "      <td>415</td>\n",
       "      <td>347</td>\n",
       "      <td>15</td>\n",
       "      <td>1.215973e+08</td>\n",
       "      <td>840729</td>\n",
       "      <td>0.060000</td>\n",
       "      <td>8.880000</td>\n",
       "    </tr>\n",
       "    <tr>\n",
       "      <th>2</th>\n",
       "      <td>2161</td>\n",
       "      <td>1461</td>\n",
       "      <td>0</td>\n",
       "      <td>8.211420e+05</td>\n",
       "      <td>25694</td>\n",
       "      <td>29.860000</td>\n",
       "      <td>915.590000</td>\n",
       "    </tr>\n",
       "    <tr>\n",
       "      <th>3</th>\n",
       "      <td>2161</td>\n",
       "      <td>1461</td>\n",
       "      <td>256</td>\n",
       "      <td>8.211420e+05</td>\n",
       "      <td>25694</td>\n",
       "      <td>29.860000</td>\n",
       "      <td>915.590000</td>\n",
       "    </tr>\n",
       "    <tr>\n",
       "      <th>4</th>\n",
       "      <td>779</td>\n",
       "      <td>606</td>\n",
       "      <td>3</td>\n",
       "      <td>1.457732e+07</td>\n",
       "      <td>449817</td>\n",
       "      <td>0.260741</td>\n",
       "      <td>8.514812</td>\n",
       "    </tr>\n",
       "    <tr>\n",
       "      <th>...</th>\n",
       "      <td>...</td>\n",
       "      <td>...</td>\n",
       "      <td>...</td>\n",
       "      <td>...</td>\n",
       "      <td>...</td>\n",
       "      <td>...</td>\n",
       "      <td>...</td>\n",
       "    </tr>\n",
       "    <tr>\n",
       "      <th>25258</th>\n",
       "      <td>2550</td>\n",
       "      <td>1165</td>\n",
       "      <td>64</td>\n",
       "      <td>9.823900e+04</td>\n",
       "      <td>2639</td>\n",
       "      <td>22.260000</td>\n",
       "      <td>836.750000</td>\n",
       "    </tr>\n",
       "    <tr>\n",
       "      <th>25259</th>\n",
       "      <td>2551</td>\n",
       "      <td>1165</td>\n",
       "      <td>0</td>\n",
       "      <td>3.453165e+05</td>\n",
       "      <td>9343</td>\n",
       "      <td>22.880000</td>\n",
       "      <td>719.380000</td>\n",
       "    </tr>\n",
       "    <tr>\n",
       "      <th>25260</th>\n",
       "      <td>2551</td>\n",
       "      <td>1165</td>\n",
       "      <td>501</td>\n",
       "      <td>3.453165e+05</td>\n",
       "      <td>9343</td>\n",
       "      <td>22.880000</td>\n",
       "      <td>719.380000</td>\n",
       "    </tr>\n",
       "    <tr>\n",
       "      <th>25261</th>\n",
       "      <td>2552</td>\n",
       "      <td>1664</td>\n",
       "      <td>0</td>\n",
       "      <td>8.874170e+05</td>\n",
       "      <td>9362</td>\n",
       "      <td>105.690000</td>\n",
       "      <td>9027.920000</td>\n",
       "    </tr>\n",
       "    <tr>\n",
       "      <th>25262</th>\n",
       "      <td>2552</td>\n",
       "      <td>1664</td>\n",
       "      <td>274</td>\n",
       "      <td>7.077410e+05</td>\n",
       "      <td>6218</td>\n",
       "      <td>79.380000</td>\n",
       "      <td>9035.390000</td>\n",
       "    </tr>\n",
       "  </tbody>\n",
       "</table>\n",
       "<p>38174 rows × 7 columns</p>\n",
       "</div>"
      ],
      "text/plain": [
       "       Brnd_Name  Gnrc_Name  Mftr_Name  Tot_Dsg_Unts  Tot_Clms  \\\n",
       "0           1605        649         63  6.762309e+07    695772   \n",
       "1            415        347         15  1.215973e+08    840729   \n",
       "2           2161       1461          0  8.211420e+05     25694   \n",
       "3           2161       1461        256  8.211420e+05     25694   \n",
       "4            779        606          3  1.457732e+07    449817   \n",
       "...          ...        ...        ...           ...       ...   \n",
       "25258       2550       1165         64  9.823900e+04      2639   \n",
       "25259       2551       1165          0  3.453165e+05      9343   \n",
       "25260       2551       1165        501  3.453165e+05      9343   \n",
       "25261       2552       1664          0  8.874170e+05      9362   \n",
       "25262       2552       1664        274  7.077410e+05      6218   \n",
       "\n",
       "       Avg_Spnd_Per_Dsg_Unt_Wghtd  Avg_Spnd_Per_Clm  \n",
       "0                        0.080000          9.875346  \n",
       "1                        0.060000          8.880000  \n",
       "2                       29.860000        915.590000  \n",
       "3                       29.860000        915.590000  \n",
       "4                        0.260741          8.514812  \n",
       "...                           ...               ...  \n",
       "25258                   22.260000        836.750000  \n",
       "25259                   22.880000        719.380000  \n",
       "25260                   22.880000        719.380000  \n",
       "25261                  105.690000       9027.920000  \n",
       "25262                   79.380000       9035.390000  \n",
       "\n",
       "[38174 rows x 7 columns]"
      ]
     },
     "execution_count": 57,
     "metadata": {},
     "output_type": "execute_result"
    }
   ],
   "source": [
    "X_b = pd.concat([Xbal, X], axis=0)\n",
    "X_b"
   ]
  },
  {
   "cell_type": "code",
   "execution_count": 69,
   "id": "ca4570ae",
   "metadata": {},
   "outputs": [],
   "source": [
    "Ybal = Ybal.rename(columns={'Tot_Spndng': '0'})\n",
    "Y_b = pd.concat([Ybal, Y], axis=0)"
   ]
  },
  {
   "cell_type": "code",
   "execution_count": 71,
   "id": "0c8dd135",
   "metadata": {},
   "outputs": [],
   "source": [
    "Xb = X_b.values\n",
    "Yb = Y_b.values\n",
    "baltree = tr.fit(Xb, Yb)"
   ]
  },
  {
   "cell_type": "code",
   "execution_count": 72,
   "id": "cdc07a31",
   "metadata": {},
   "outputs": [],
   "source": [
    "predbal = baltree.predict(X_test)"
   ]
  },
  {
   "cell_type": "code",
   "execution_count": 76,
   "id": "2b48d820",
   "metadata": {},
   "outputs": [
    {
     "name": "stdout",
     "output_type": "stream",
     "text": [
      "Median absolute error: 98649.94999999995\n",
      "R2 score: 0.7629592298845578\n"
     ]
    }
   ],
   "source": [
    "print('Median absolute error: ' + str(metrics.median_absolute_error(predbal, Y_test)))\n",
    "print('R2 score: ' + str(baltree.score(X_test, Y_test)))"
   ]
  },
  {
   "cell_type": "markdown",
   "id": "83348731",
   "metadata": {},
   "source": [
    "As one can see, the MAE is unchanged while the R2 score decreased. "
   ]
  },
  {
   "cell_type": "markdown",
   "id": "8d408f96",
   "metadata": {},
   "source": [
    "### Support Vector Machine and SMOGN"
   ]
  },
  {
   "cell_type": "markdown",
   "id": "6707df8f",
   "metadata": {},
   "source": [
    "I tried to see how SMOGN would affect the support vector machine. The accuracy appears to go down. "
   ]
  },
  {
   "cell_type": "code",
   "execution_count": 79,
   "id": "f082002c",
   "metadata": {},
   "outputs": [],
   "source": [
    "r = make_pipeline(StandardScaler(), svm.SVR()) #scaling \n",
    "svmmodel = r.fit(Xb, Yb.ravel())"
   ]
  },
  {
   "cell_type": "code",
   "execution_count": 80,
   "id": "3ac45b31",
   "metadata": {},
   "outputs": [],
   "source": [
    "balsvm = svmmodel.predict(X_test)"
   ]
  },
  {
   "cell_type": "code",
   "execution_count": 81,
   "id": "8b386c9b",
   "metadata": {},
   "outputs": [
    {
     "name": "stdout",
     "output_type": "stream",
     "text": [
      "Median absolute error: 2855830.692731934\n",
      "R2 score: -0.02390346171032598\n"
     ]
    }
   ],
   "source": [
    "print('Median absolute error: ' + str(metrics.median_absolute_error(balsvm, Y_test)))\n",
    "print('R2 score: ' + str(svmmodel.score(X_test, Y_test)))"
   ]
  },
  {
   "cell_type": "markdown",
   "id": "d797908f",
   "metadata": {},
   "source": [
    "## Overall Results "
   ]
  },
  {
   "cell_type": "markdown",
   "id": "92943c81",
   "metadata": {},
   "source": [
    "Here is a table summarizing the results of the different models used. The classic linear regression model did not perform well (as suggested by the heat maps of the correlation matrix) while the decision tree regressor outperformed several ensemble methods. Bagging appeared to slightly improve the $R^2$ and MAE scores, but not significantly.\n",
    "<br>\n",
    "\n",
    "| Model | MSE | R2 Score | \n",
    "| --- | --- | --- |\n",
    "| Decision Tree | 97871 | 0.8714 |\n",
    "| Decision Tree + Bagging | 98657 | 0.8888 |\n",
    "| Voting | 324999 | 0.5479 |\n",
    "| Nearest Neighbors | 350729 | 1 |\n",
    "| Support Vector Machine | 615257 | -0.03750 |\n",
    "| Stochastic Gradient Descent | 7465638 | 0.09195 |\n",
    "| Linear Regression | 7585091 | 0.07849 |\n",
    "| adaBoost | 8085436 | 0.7897 |"
   ]
  }
 ],
 "metadata": {
  "kernelspec": {
   "display_name": "Python 3 (ipykernel)",
   "language": "python",
   "name": "python3"
  },
  "language_info": {
   "codemirror_mode": {
    "name": "ipython",
    "version": 3
   },
   "file_extension": ".py",
   "mimetype": "text/x-python",
   "name": "python",
   "nbconvert_exporter": "python",
   "pygments_lexer": "ipython3",
   "version": "3.8.5"
  }
 },
 "nbformat": 4,
 "nbformat_minor": 5
}
